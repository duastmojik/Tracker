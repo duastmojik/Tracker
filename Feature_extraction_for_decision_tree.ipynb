{
  "nbformat": 4,
  "nbformat_minor": 0,
  "metadata": {
    "colab": {
      "provenance": []
    },
    "kernelspec": {
      "name": "python3",
      "display_name": "Python 3"
    },
    "language_info": {
      "name": "python"
    }
  },
  "cells": [
    {
      "cell_type": "markdown",
      "source": [
        "### Feature Extraction Code for Camel Dataset\n",
        "\n",
        "This code is designed to extract features from the videos in the [Camel dataset](https://camel.ece.gatech.edu/). It assumes you already have annotation files in text format with the following structure:\n",
        "\n",
        "**Annotation Format:**\n",
        "- Frame Number\n",
        "- Track ID Number\n",
        "- Annotation Class\n",
        "- Bounding Box Top Left X Coordinate\n",
        "- Bounding Box Top Left Y Coordinate\n",
        "- Bounding Box Width\n",
        "- Bounding Box Height\n",
        "\n",
        "Ensure your annotation files follow this format for accurate feature extraction.\n"
      ],
      "metadata": {
        "id": "hl01vjuC46t4"
      }
    },
    {
      "cell_type": "code",
      "execution_count": null,
      "metadata": {
        "id": "pyEMGrMd1GSN"
      },
      "outputs": [],
      "source": [
        "import cv2\n",
        "import numpy as np\n",
        "import pandas as pd\n",
        "from pathlib import Path"
      ]
    },
    {
      "cell_type": "markdown",
      "source": [
        "### Setting Dataset Path and Annotation Name\n",
        "\n",
        "\n",
        "To get started, ensure you set the path to the Camel dataset and set the name of the ground truth files appropriately:\n",
        "\n",
        "```python\n",
        "path = \"/content/drive/MyDrive/Camel\"\n",
        "name = 'CSRT_abs'\n"
      ],
      "metadata": {
        "id": "bRhrRN7u25X7"
      }
    },
    {
      "cell_type": "code",
      "source": [
        "path = '/content/drive/MyDrive/Camel'\n",
        "name = 'CSRT_abs'"
      ],
      "metadata": {
        "id": "miklk7sU24Rm"
      },
      "execution_count": null,
      "outputs": []
    },
    {
      "cell_type": "code",
      "source": [
        "def convert_to_desired_format(file_path):\n",
        "    # Split the output\n",
        "    with open(file_path, 'r') as file:\n",
        "        lines = file.readlines()\n",
        "\n",
        "    formatted_data = []\n",
        "\n",
        "    for line in lines:\n",
        "        items = line.split()\n",
        "        if len(items) < 7:\n",
        "           continue\n",
        "\n",
        "        # Extract the values\n",
        "        frame = int(items[0])\n",
        "        track_id = int(items[1])\n",
        "        class_id = float(items[2])\n",
        "        bb_left = float(items[3])\n",
        "        bb_top = float(items[4])\n",
        "        bb_width = float(items[5])\n",
        "        bb_height = float(items[6])\n",
        "\n",
        "        # Calculate additional values\n",
        "        z,x,y = -1,-1,-1  # Set z-coordinate to -1 since those are used only for 3D data\n",
        "\n",
        "        # Construct the desired format\n",
        "        formatted_data.append([frame, track_id, bb_left, bb_top, bb_width, bb_height, class_id, x, y, z])\n",
        "\n",
        "    return np.array(formatted_data)\n"
      ],
      "metadata": {
        "id": "_7tMIWUt1MnE"
      },
      "execution_count": null,
      "outputs": []
    },
    {
      "cell_type": "markdown",
      "source": [
        "![Mean-Average-Precision-MAP_6-1024x576.jpg](data:image/jpeg;base64,/9j/4QAC/+ICNElDQ19QUk9GSUxFAAEBAAACJGFwcGwEAAAAbW50clJHQiBYWVogB+EABwAHAA0AFgAgYWNzcEFQUEwAAAAAQVBQTAAAAAAAAAAAAAAAAAAAAAAAAPbWAAEAAAAA0y1hcHBsyhqVgiV/EE04mRPV0eoVggAAAAAAAAAAAAAAAAAAAAAAAAAAAAAAAAAAAAAAAAAKZGVzYwAAAPwAAABlY3BydAAAAWQAAAAjd3RwdAAAAYgAAAAUclhZWgAAAZwAAAAUZ1hZWgAAAbAAAAAUYlhZWgAAAcQAAAAUclRSQwAAAdgAAAAgY2hhZAAAAfgAAAAsYlRSQwAAAdgAAAAgZ1RSQwAAAdgAAAAgZGVzYwAAAAAAAAALRGlzcGxheSBQMwAAAAAAAAAAAAAAAAAAAAAAAAAAAAAAAAAAAAAAAAAAAAAAAAAAAAAAAAAAAAAAAAAAAAAAAAAAAAAAAAAAAAAAAAAAAAAAAAAAAAAAAAAAAAB0ZXh0AAAAAENvcHlyaWdodCBBcHBsZSBJbmMuLCAyMDE3AABYWVogAAAAAAAA81EAAQAAAAEWzFhZWiAAAAAAAACD3wAAPb////+7WFlaIAAAAAAAAEq/AACxNwAACrlYWVogAAAAAAAAKDgAABELAADIuXBhcmEAAAAAAAMAAAACZmYAAPKnAAANWQAAE9AAAApbc2YzMgAAAAAAAQxCAAAF3v//8yYAAAeTAAD9kP//+6L///2jAAAD3AAAwG7/2wCEAAYEBAUEBAYFBQUGBgYHCQ4JCQgICRINDQoOFRIWFhUSFBQXGiEcFxgfGRQUHScdHyIjJSUlFhwpLCgkKyEkJSQBBgYGCQgJEQkJESQYFBgkJCQkJCQkJCQkJCQkJCQkJCQkJCQkJCQkJCQkJCQkJCQkJCQkJCQkJCQkJCQkJCQkJP/CABEIAkAEAAMBIgACEQEDEQH/xAA1AAEBAAIDAQEAAAAAAAAAAAAABwYIAwQFAQIBAQACAwEBAAAAAAAAAAAAAAACBAMFBgcB/9oADAMBAAIQAxAAAADakAAAAAAAAAAAAAAAAAAAAAAAAAAAAAAAAAAAAAAAAAAAAAAAAAAAAAAAAAAAAAAAAAAAAAAAAAAAAAAAAAAAAAAAAAAAAAAAAAAAAAAAAAAAAAAAAAAAAAAAAAAAAAAAAAAAAAAAAAAAAAAAAAAAAAAAAAAAAAAAAAAAAAAAAAAAAAAAAAAAAAAAAAAAAAAAAAAAAAAAAAAAAAAAAAAAAAAAAAAAAAAAAAAAAAAAAAAAA8r5L1U8+4L9CT0UJPRQk9FCT0UJPRQk9FCT0UJPc/yV/wBjJWAAAAAAAAAAAAAAAAAAAAAAAAAAAAAAAAAAAAAAAAAAAAAAAYt78zKr9j3ZKZ+5qKV2Zb0yvdKe+kZl25R+CtYB0O7gv4XmHHSa+ynSis9CdKKJ0oonSiidKKJ0oonSijWbZGDXmttOwNjzIAAAAAAAAAAAAAAAAAAAAAAAAAAAAAAAAAAAAAAAAAAAAAAHBy/oeZw+yPA/fuDwf3gFaMe9XuDxuL3h5uJZ/gOC/wBSkzakxmFnWgAAAAAa/XmDXnX9F2BsOdAOl5p74ADocZ6bG8kDpfg9AAAAAAAAAAAAAAAAAAAAAAAAAAAAAAAAAAAAAAAAAAAEmrGF98yYADAc+wHBf6lJm1JjMLOtAAAAAA1+vMGvOv6LsDYc6BhXi0LgMG86mfCcfim8xMc54ffMA6VM80nn4pXdOcAAAAAAAAAAAAAAAAAAAAAAAAAAAAAAAAAAAAAAAAAAH5j1jnJRmKZWAMBz7AcF/qUmbUmMws60AcZyMSV8OWsSGWsSGWsSErvOv1Wo77M2Jr2hyxiYyxiYyxiWQTl3RlySasyesAAAAAAAAAAAAAAAAAAAAAAAAAAAAAAAAAAAAAAAAAAAAAAEr9SgYqZUj/KVvAcYyDBf46TNqTGYWdaA6fc6cY63cvHz7zhfw/bo8X4fsfh+x1qzJtluN6zB1Aai5P1AE/UARfO/L9WnXywbjYyWtSGvAAAAAAAAAAAAAAAAAAAAAAAAAAAAAAAAAAAAAAAAAAAAAAADi5REvUrOA4L/AFKTNqTGYWdaA6fc6cY638/Bz9TwYdRhAA62y2tOy3E9t2BprwAE+9XyvV1dDLMbySM7S/lOe/PoAAAAAAAAAAAAAAAAAAAAAAAAAAAAAAAAAAAAAAAAAAAAAAAAwHPsBwX+pSZtSYzCzrQHT7nTjHW/n4OfqeDDqMIAHW2W1p2W4ntuwNNeAAn3q+VEdVQuv3Abvtb4AAAAAAAAAAAAAAAAAAAAAAAAAAAAAAAAAAAAAAAAAAAAAAAADAc+wDBf6tJm1JjMLOtAdPudOMdb+fg5+p4MOowgAdbZbWnZbie27A014ACffr8+rq6GV/TaXwAAAAAAAAAAAAAAAAAAAAAAAAAAAAAAAAAAAAAAAAAAAAAAAAGBZ7+MdjWn2L19o72CL2lCCL2IJ+L904w1t/NCrtnldYGz7a3tYGz41gbPjVvaP7z1cgRwAAT71fK9XV0MsG0vgAAAAAAAAAAAAAAAAAAAAAAAAAAAAAAAAAAAAAAAAAAAAAAAAAAAAOn3OnGMpsUdsWuqBs7oAAAAAE+9XyvV1dDLBtL4AAAAAAAAAAAAAAAAAAAAAAAAAAAAAAAAAAAAAAAAAAAAAAAAAAAADp9zpxjKbFHbFrqgbO6AAAAABPvV8r1dXQywbS+AAAAAAAAAAAAAAAAAAAAAAAAAAAAAAAAxjIdJzd37P5qbFID6RbGteaFgYrDDZyZYh0TYrBsK9Apnp6nV0qiEeMbIfmGcZTcs19802URHFTZhJa0AAAAAAAAOn3OnGMpsUdsOvqfXxsrv18H0+H18H18H18+h8E/9XyvV1dDLBtL4AAAAAAAAAAAAAAAAAAAAAAAAAAAAAAAEEwrZvvGpNboOQGkuT7G5Ca6e3VPUNeuLY/yDWTayIX41q9+4+GSyG7zeOa1dHbTxTX3Ma9ymq+TXzomrWVevXSSbC/n9AAAAAAAADp9z58+a8ZNV2o10oVdOcoVcShVxKFXEoVcShVxKFXEOp+RdjJL9jY3QAAAAAHjerqybVNb8hK96OpVELijnhGwCH5QUhr1mhUejBsRNovkX9osTXrJivtddiT6iHaLKmnjlja9+6WfpzzHCy9Lowc2ga4ZWUHI4H5RsileBmyHX8SPlWybWvPCv+NHvANl8Y4o4X704pawA8zyjKAAAAAAAAAAAAAAAAAAAAAAAAAAAAAAAAAAAAAAAYbrptX5hLsC2c4jX7D9qfIITZ8s9U1I49h8tNY+nsP6xi8U2J6pE/M2M+GunpX4QTYPr+8an+rY8vNJcs2R9o1c5Lx6p7WuWyPTI3hVx98jcn278s1WpN3x81eq1g/R1IrshipEPI2S6pr5w7N9Y1/yyq9M62aABh+E2YAHTl5XEjFcSMVxIxXEjFcSMVxIxXEjFcSMVxIxXEjFcSMVxI8nM1BgPo9PvmVAJ54xXEjFcSMVxIxXEjFcSMVxIxXEjFcSMVxIxXEjFcSMVxIxXEjFcSMVxI+yVMAAAAAAAAAAAAAAAAAAAAAAAAAAAAAAAAAAAAAAAAAAAAAAAAAAAAAAAAAAAAAAAAAAAAAAAAAAAAAAAAAAAAAAAAAAAAAAADw/c1SO1sJrD7RsBj8B9I2axeEcRth53c1jL5IsZ4i54Dctby2YT4eJF38WN+gX/AIYJ1zY/zYH+za8AAAAAAAAAAAAAAAAAAAAAAAAAAAAAAAAAAAAAAAAAAAAAAAAAAAAHVn9KEr5KgJl5dhET8nYIIRdxKMF2K8k92E3YSDu1IS/5URC/fqomH5qIAAAAAAAPmvuO3sG10+5Z7FNdRsU11GxTXUbFNdRsU11GxTXUbFNdfnxsWnlDhgCeAAAAAAAAAAAAAAAAAAAAAAAAAAAAAAAAAAAAAAAAAAAAAAAAAAAAAD5rLs1rNbnyj0TzgAAAAAAIzoFVlVV8t9PDLRAAAAAAAAAAAAAAAAAAAAAAAAAAAAAAAAAAAAAAAAAAAAAAAAAAAAA+azbM6zW58o9E84AAAAAACM6BVZVVfLfTwy0QGN8fTM0SjtFNTvwywedguSnWy6Y+oZnwy7vFReB74AAAAAAAAAAAAAAAAAAAAAAAAAAAAAAAAAAAAAAAAAAAAPyfdZtldarc+UeiecAAAAAABGdAqsqqvlvp4ZaIH4x/Ix5vX9oY96HojHfa/M2KDxeuPB73oD8fsAAAAAAAAAAAAAAAAAAAAAAAAAAAAAAAAAAAAAAAAAAAB456cg6tjNQ8r2b1mtz5R6J5wAAAAAAEZUCq67+z5X3FvQ9KtcEPFwQ8XBMqauhlzJHSMIKWAAAAAAAAAAAAAAAAAAAAAAAAAAAAAAAAAAAAAAAAAAAAADqR3msRyfQ+azbM6zW58o9E84AAAAAAAAAAAyu1RW1eYdiPKbOd1CX1kAAAAAAAAAAAAAAAAAAAAAAAAAAAAAAAAAAAAAAAAAAAAAYplccMnzwAPms2zOs1ufKPRPOAAAAAAAAAAAMrtUV9PzDsaPIexZGz+/QAAAAAAAAAAAAAAAAAAAAAAAAAAAAAAAAAAAAAAAAAAfnxpkWhNOwUJL/SM/xvGvpSPzNvQM6+4F+zOdZrLGrc+UeiecAAAAAAAAAAAd7hyO1eYdiDZgAAAAAAAAAAAAAAAAAAAAAAAAAAAAAAAAAAAAAAAAAAeT2u4MX4cuGD9vLRivzKxgGRe6MP/GZjGIZszrLbnzD0PzkAAAPvwAAAAAADK7VFbV5h2INmAAAAAAAAAAAAAAAAAAAAAAAAAAAAAAAAAAAAAAAAAAAAAAAAB8jVmY7UQW9GzEFvEQW8RDwtjItPTYmPUuBAAAAAAAyu1RW1eYdiDZgAAAAAAAAAAAAAAAAAAAAAAAAAAAAAAAAAAAAAAAAAAAAAAAAAAAAIvaIu1uJD0/jQAAAAAAMrtUVtXmHYg2YAAAAAAAAAAAAAAAAAAAAAAAAAAAAAAAAAAAAAAAAAAAAAAAAAAAACL2iLtbiQ9P40AAAAAADK7VFbV5h2INmAAAAAAAAAAAAAAAAAAAAAAAAAAAAAAAAAAAAAAAAAAAAAAAAAAAAAi1pi3zW4mPT+NAAAAAAAyu1RW1eY9iDZgAAAAAAAAAAAAAAAAAAAAAAAAAAAAAAAAAAAAAAAAAAAAAAAAAAAAJ3RGLFG/llQqRpZRGllEaWURpZRGllEaWURpZROqL8+zthlygAAAAAAAAAAAAAAAAAAAAAAAAAAAAAAAAAAAAAAAAAAAAAAAAAAAAAAAAAAAAAAAAAAAf/EAEoQAAAGAQEDBwgJAwEECwEAAAECAwQFBgcACBEXEhMUNlRgcxAVIDI1QFd0FiEwNFFSU1VyIjFxIyQzQUMlJjhERVBWYnCAg5D/2gAIAQEAARIA/wD7s2SxsqvGmkZAVAQKYCjoM51T8XuuOdU/F7rjnVPxe6451T8XuuOdU/F7rjnVPxe6451T8XuuOdU/F7rjnVPxe6451T8XuuOdU/F7rjnVPxe6451T8XuuOdU/F7rjnVPxe6451T8XugzjVDCAAL3eI7tIqlWSIqX1TlAwd4j5NqybhRA8gcnNLGbnVAwCACA7wHW/UrLs4VoDt8qKaQqESAWUk3fmcFQE4i3VFE+n0k0jSJHdrFRKsqRBMd+t+oyZZS7VR2zV5xFNVREx4mWaTbBN+xUFVsrv5B9/kzb1IV8YmsX40hbdAqPpEXPOlWFMNcCat+Z9rgTVvzPtcCat+Z9rgTVvzPtcCat+Z9rgTVvzPtcCat+Z9rgTVvzPtcCat+Z9rgTVvzPtcCat+Z9rgTVvzPtcCat+Z9rgTVvzPtcCat+Z9rJNWYVKxpMI/neaMkU46jvuDfwi94ZaQTiot4/VH/TbInWNqvRFomMetq04hmzBtINh6W+PKzbOAWn20g9WM6lBYRzZ8+naqk8km53rYgIERMnPwZImwVpiedkHoquDyD0lWeSlqUZRD6VdtkTsRlVzTNbbvZirwIzUlItk13EiCrR/YbawPLkLJNF1nBk2S5na03Czlrkp14xLGKOEWyDRQ9Pw0LhY25w3ijOFDHinVHYVIzKZfOZA6iSKrV+6kXlJJdwnHicu5EirFoack3d5dVVrJHLHvjCt03NRQJRlCBv3FVTANYG6pL/Mm9wzj10Q+XJqO+4N/CL3hkGDaUZLsXqJVmy5BTUTKkQqQJFKAEAvJAp6zDqQ/mU8eiaPAPqQQp0CgxdMfNySqDwvIcA0oNaZiUyUUlzhUlEQUkaRX5UjQjqNTN0NLmUBd1esJqxazhizQOw3JMhRpVfQfi+TjUgWFQVtzzH1XfunTlzDt1TvN/Pg9h2EjHDGu2qazMQKUUYimwMG6O6YRyaS5i8jnGdDrbF8L5tEoJr8oxyinWohFBmgmwSImyV55uGbepCvjE1gbqkv8yb3DOPXRD5cmo77g38IvefaAEeXRQH1RsrTlenm7qQr4xNYG6pL/Mm9wzj10Q+XJqO+4N/CL6MxMsYJkZ5ILgiiUQLvhbtFTkiaNRK9bPAT54qPoTk20r8apIPRPzJDFLum59CCQIsu1frgcd26sXyNtgJGjWsqCKyfOpr6XmGbeUbRaiog7cpnVSJCTbWeaqOmfOCkRY6PK7rbSJRQqcLKh/4dOs1zCUQMUDB/YQ3+lm7qQr4xNYG6pL/Mm9wzj10Q+XJqO+4N/CL6M0qnxNhEZI5StCsllGQXC6OivJ+NanjVTN4/ci4Sg0y2RCrPpN90XoAPXRod+qEpGwzWQXNDLzygslbTOrzMjY04mSOUBUYwjZSyirSZuUeQzt2ZVtCCq5PNVmLby9Vjmko6dPJF6Vd2a+yqkNTZl6j/AL4jU5UtOIQVJmr1BB45bMY2MOq6BvZ0oen22VF6JTGertGSbWNYNbM9lX5zqrVmCQLzkZVTwkfQzA9e+eXTwh1DB3WzRXz2XGFhYJE5a4NTLohjKxktdDg5ghwOLhonyx9HN3UhXxiawN1SX+ZN7hnHroh8uTUd9wb+EX0ZWFjZxt0WUYNnyG/lc2hV4NslzSEQwST/AKP6Zetw0+CYS0WzfAkO8mpGswss0QZv4pk5bNzAZFJGvRDcwGRjGSYlUKsAqRbFVRdVRo3OdwmCSxoVhS2cytFQ7SIRk48AXUQdsmz9EUHSCS6QiBhIVk2K7O8KgkDk5ATMsNNrgunLsYONFd0O9ZRxVYJ28VeuIdgq5WS6Oosdi2UWQXUbpGVb7+ZP3WUIVRMxDBvKYBAQw+saiXKw4zeDyUiKmkok3o5u6kK+MTWBuqS/zJvcM49dEPlyajvuDfwi/Zw4Ay2lZxMPqK9r6Svd3MVIkJloytFZHm7PAnFdobG2QWGQ66SSa/6LtIeaeNPQzd1IV8YmsDdUl/mTemusRuiosoO4iZRMYeKNZD/vZ9cUqz2w+uKVZ7YfXFKs9sPrilWe2H1xSrPbD64pVnth9cUqz2w+spyDay2ZJ9GnFVAqJSiZlk2totEUzuz8opCgOuKVZ7YfXFKs9sPrilWe2H1xSrPbD64pVnth9cUqz2w+uKVZ7WfUTLtZpkR6yOJ0TiIAPkH/ALTIcn/00PK7vXvGcwznxvOPF0mU8Af7WyouZIW1OBhpEikFY0f6V4vy5u6kK+MTWBuqS/zJvTmfZL3wD6SIBzm365kn4a5kn4a5kn4a5kn4a5kn4a5kn4a5kn4adlKg3McofWG7TXD8Su2SVF46ATkAw64MxHbXeuDMR213rgzEdtd64MxHbXeuDMR213rgzEdtd6vtCY1WPQctnC6plFOQIYu6ntf5G8sIPT9pSwLF+srCARRHu/eMZVq/twJMMQ6ST60XhK5lnHRd1fl2tziSeqzb7Q8fGKA2udZnqy4AdxjPdqajsrg0h+lkcRjpEpwk8wvW0jj8XbNdNw3VUTMRTA3VJf5k3pzHsl74B9Ieub7CR+6H/wAhqO+4N/CL6eZvYbTx9Yu6ntv5G8g/21hc3ny9ZFtP9015IkeibvA4bIOkxTXRTWIP1CWx7K1Ytd0dWCScnbs1eSBI+/06Go+MTREE1M2ZkXIYCYG6pL/Mm9OY9kvfAPpD1zfYSP3Q/wDkNR33Bv4RfTzN7DaePrF3VBt/I3kyPaE6dR5qcUMAGatTikGDaurVsbxaDoog9dlF65HvFm7qQr4xNYG6pL/Mm9OY9kvfAPpD1zfYSP3Q/wDkNR33Bv4RfTzN7DaePrF3VBt/I2t+shOByZkuHx+zEVIuJVJJzZylAhQKUAAADcAd4s3dSFfGJrA3VJf5k3pzHsl74B9Ieub7CR+6H/yGo77g38Ivp5m9htPH1i/qg1/kbWVskkocQmgyR6dYJE3MRrHEuPjUeCUVkFelz0ooLuTdd483dSFfGJrA3VJf5k3pzHsl74B9Ieub7CR+6H/yGo77g38Ivp5m9htPH1l/Kj6p0KAr1feKISjhwLtU+zkzLdSO8g2c7l9aDqC37y5u6kK+MTWBuqS/zJvTmPZL3wD6Q9c32Ej90P8A5DUd9wb+EX08zew2nj6xrWIRzAt5NeKZLPRExefIQqZQKQoFKH9g7yZu6kK+MTWBuqS/zJvTmPZL3wD6Q9c32Ej90P8A5DUd9wb+EX08zew2nj6xd1QbfyN3mzUQylKVAhTGHnifVV7/AGOpMDMY5AnNGOKg641XL9BvrjVcv0G+uNVy/Qb641XL9BvrjVcv0G+uNVy/Qb6VzFb3SZ0FUG/NqlEhtHdC2DlAkdTf/wAPPBuxONeeDdica88G7E4154N2JxrzwbsTjXng3YnGvPBuxONOJA7lIUgZrlEwh9ccG5i33/pF9PM3sNp4+sXdUG38jd5lEiKl5KhCmD8Ogtezo66C17OjroLXs6Ougtezo66C17OjroLXs6Ougtezo6l2TYsU9EEEgEED7hw+kmrOuwUIU4cx/boDXs6OugNezo66A17OjroDXs6OugNezo66A17OjroDXs6Ougtezo6ANwbvTzN7DaePrF3VBt/I3e6Z9kvfAU1hv2888D3DM3sNp4+sXdUG38jd7pn2S98BTWG/bzzwPcMzew2nj6xd1QbfyN3umfZL3wFNYb9vPPA9wzN7DaePrF3VBt/I3e6Z9kvfAU1hv2888D3DM3sNp4+sXdUG38jdxLnkuq0AWpbHLJMTOxEESlMBygYo7wEN4Drf5N+t/lOcpCGOYwFKUN4ihtF0F3bEquzfOXb1VbmCqAIAG/Vlzjj2qPRYylkaEclHcZOu2aHtcYnKQj9B8zU9VXfrf5VDlTIZQw7ilAREaHk2vZGK/PAKrqkYKgisbW/W/wB0mfZL3wFNYb9vPPA9wzN7DaePrF3VBt/I3cN68Qj2iztyoVJBAgqKHygjJZZi7NlJc6qcTHOk2EUkrfBhcJpXIvIVVRh03BQo+0Be7qyjXDSrtwZkVE0tKp5tyBkN/IBjGsslYlicUxkMa7RBJ2oWOWtrNGNc10/Idajs/wCVLA3XtcRRUFKm2MIn1gXMU1lp5PrvGDVrGsVCkbDknIsRjOsrTssYxigIJooyWf8AMDKHJclKOzb1gximAMx5qdrYVaT9djVTtp9E7dZzsoxsg3hU2clRk2TcqYvkZvabyRK1qLjanXFTJTFgU5kFKdsx0OGrxGk1FJzEksTe6eYfcP8AGuV75T4RQXDBs1cOEEsIZbeZCo8jYZ5Jo0UYLqEU1UNotZxT7DdbO1btYds8FpGJymasxJVk95TqUOzrhQBUqWQdopzA41q1siGLcHM8puFBbLtzlqvaJyRrRoSut4g5mjnZ0dx2OsDubdMn5pJwss8OMZn/ACpPN1rXGUVA9TbmET6xHneWv8Vb56QYNGsXCpiduNY2gMqXmtOHVZpbV46QUPzrnAOanOVWkkzl2CbGZizFBdP3KZ9kvfAU1hv2888HW/yb9b/Lv8m/W/yb/Lv1mb2G08fWLuqDX+Ru4e01cnr4IzGNbOJ5edUKDgLxhPIVNxLItFb03dwUegChoy0XEVNkeCjyKCK7xyVhum6e/jtmlWAiEjdMLEFHkY3SoSOPRUnckWCHcpGU6TC5Rq0M22dWzykwkmwj1X6Tl5pltC0uPw0jEwYuFpkkYLUI/Y5ZN0cXLu094rOZBXnR2yWrsidQlDoqLRDR4fpJcu53rNyoIU2kA4lpOYImgCGYa66pmI6BjhQ4GfvXfOuSQMaSIhGEcQoFK1bpogG1fCSsXYarf2LU7lrEql58Jba5pQwHOwKb+Qm1iclGP2dsYTEYWZutvSEk3YOVuRpkzLhDz+IoBFUZSbmDN1FNpnH4U/HNKjI9NUYaKXMm7O5aYpXbRLd7erbcAdGTKnEZVjmU5mzHdDjmoIR0cRJQWu1/MnisUgzSAQB+8TQHWQn7Gw7L8ChVXB3jWGO2SkQR2haYyw0lEwQrrzJIvowR9Qk29b2TLA6SOIOpZ+dsYcQZ2pWOcRoxUkddvNMynMLDZPqMqmNivcq3M1GeW/2dIPcpkf8Aol74CmqzZ3VWequmqKahlC8gQ4yTPYmmuMkz2JprjJM9iaa4yTPYmmuMkz2JprjJM9iaa4yTPYmmuMkz2JprjJM9iaa4yTPYmmuMkz2JprjJM9iaa4yTPYmmuMkz2JprjJM9iaatF7f2lom2dN0Uypn5YDi/6qg1D/3G7h/RSC89+fRimgym7d0t8wayTNZk9QTcNliiRRI2PKkdg3jzV6OFm2UFVFApClIBClACgG4ANjClHlTSpqxFGemNyxVcMmztqdou3SVbnLyDJROOajBlcBHV2NbA5KJFdQkDF1xiDCIYoMWpTCYEZGMZS7NRlINUXbZUNx0oDH1Uq6xl4aAj2Sxv7qZFqE/cdoeqrDFOTQMUBFTu9OWqDxA7dyimuioHJOnFY8qMG7F5G12MauN+/nd2o6m12JlFpVhCsWz9cTCo5fR7STaKNHzZJy3VDknSgse1OsuBcw9fjmS4/wDMGqwYzhZ4YtoMqUOSDycr8VZGJmEwwbvmphAwpR1UgoiLUiWESybsFAEDt4nHFQgyuCx1cjWwOSiRbW0fQH76BrdQpddOWPO+Mu4AcYVB0LJd7Xo5y5aIppEWTSIimVNMhSEKG4pfcjFAwCBgAQENwh5pjuwNdeaI7sDXXmiO7A115ojuwNdeaI7sDXXmiO7A115ojuwNdeaI7sDXXmiO7A115ojuwNdeaI7sDXXmiO7A115ojuwNdeaI7sDXXmiO7A115ojuwNdeaI7sDXSKKSBAIimRMgf2L9uyuVekZxzAs5hmvKtQEVmgeSNscNLunDSOlWTxw1Hcul9hLzkXAtwcy0i0YICYCgpM2WJgYJaekHqSUYimCp3FassXbYdCYhnPSmK+/m1fs5eZj4COWkpV4izZoABlF4abjrBHpSUS8Res1t4prKXOvI2EtbUmGhZkxQMDIPJXMhVu1ysjFQ0kR27jTCR0T0JGQaxTJd++XTbtW5BUVVjsq1CRqqdq88JNYdRTmiuWD5tJs0XrNci7ZcoHTV1OXKvVt00ZzEu0YuHg8lukY5SEE5jABShvES5Pp6sFIzzeeaOo6NDe6Xrdij7XCNJqKWFZk7JziR+6bhYrduqscQAqZRMI7OkmU8zkrJjsvKTTA4pjEbVNgsVbcPoShuJB62E53A1XP8nbsTTtsZV0DSkUbkHa7J8lZEZiXlxgQUh5dcyj2Xc7QE/apZ8wxjTVLC3YG5Kz+j7QqVnp9olZCIGOkq0kc7prTdpWdu6cahEUxVy6Xccl6s4zvarRLSrXG1MLOs4lTmnDxnmJONxwa5XWHc10Uzil0SQ2iL8hBmt6ONxSqxRA3P2HaCrVfoETbVEl1lZhIDs45LaPvUbJR57BjN61i5A4AkbaxtM7YZ6FpzeHVK0WOm4ZnyTkN1AYZYjcaU2Bd+5IyCFsWW6/huoV+JaQgnlHrYh2kLH7TNhhbLHxl/pSkCzkjFKi4y3n1LGVuhoLzaD1N6nzy51tqGwxt0iomboq0Uwk1CFREDByeV/YN2/Vr2jHSlkc1nHlYXtD9pvBwtjHaAVux5qEk4M0VZotBVboeFMvnylWJGaesUY0WK4pHLUNodpMQtos00zSjq/DuejNnD3aGvqkGrb43HAhVUv6+k3TaLawOMoK6xkaVc0ysCRGuNstS+RZ86berumUAm25YSW19OjH4wJFpm3Kyj1NLdi+CCt4+gIrk8kUGSfKDG7lOzbSV3ty5gMzh0lSlPAbVU5Z4p6aForiRkkDmNzeJs/Gv9RskxJRSce4gSCdUmH8g1KHx9O5Ec19nW2yrsxFBe7UFxLHjZWuOHBauU4ALqx53jWGIUsiRLbpSbgSkSbTG1RYkqy2sEVRF1Y4CEB0/wAd3BO+U2MsabYWwPkuWKO0NOP7lcIDEcMuZLzicq8kptTNWkXW6Tj2GSBFFZ0UCpXvMsbidCIp0VFrzlgFsmmkwqu0fMEuzOqX6pHr7iQMUrZXIX/XfaprEEX+tGJTKqoGW54K1jaxSnK5JkmShSDhSppJ7MtiO7KADMN3ipjbIkgs8xGikqIiDZ2qkT0LBZYiqsPOE3IIMGnLBPnoHJ1Ns0iSNhrFHvnhyiYqPc7Mk99G8YWWRA3JUKxUTTGIAaTsiSL0P6HE845BRqrZHG2y2q7BMiS6sYo4UGskNTdkObkdwlcThzkAcfy0Y42Z5av1eRI5nkY5Vy7b4eYx5MbqPFcvuaukVRUzuMuDenU/ZykXdOUfr/SJ0kgq8xk0icaYXjFpMU2bZFiDl2paISAosS9vuK8n9EKsYFvNWdpyy3DFePJqxEM0TcrKC8POw9QPFRTGz5kmJ6MdimmlF5VbRNJznQgkEBbVCPbtwblZ5zocva2lZjJLzk9XLykz5LtEMO1VFqWB8mzi4JJLertCyKN8yNjmssVQWauVCO989KxtX2r+nXBQreOSQKDJXNVjY50v9ap1NP5xTaLc45fRTdK8bWzoViFcM682EADKRAuW1HUoDdykYpJNZULYV4arS5Y/f0wWawIa2Wch0yjViwlskkhGy4uxUV1gti5yHmS0ZMSaqNoY/OINxp9pka1B23GsAmopOzMuLBuXaHx+fH2IqfAMhOLBu7MaQVlYqplrEU2sOZ5aWh3JUUk4rMcHGO73jPG0I3FKLbAVUEG7dJqiRBBMqaSZQKUu2Y2dJsKrK80ZVi0eG57Vo2oqRH0kXMHIA/l10ATQY1avvsZbPFts0wmZCasRBNycMMkKBs5OJ06RE1l2bh+oeoLnq+zDa5s48lzYX/RyGyZAPa/s/Y5T5tQGCp+lvAy7mmjq4mNXKq7QkXkm2I0bMsh12SquI8e4+cgYkjKvVHayO1As3qmFGNZYpkSI5WbtE08YwQVvH8BFgXkigyT5QLH827ZQmdbuS9YEBAbyP022r63Deu3hyEWOFTsUVVNp20vby5IzOYqhWbi3yrfO+eK41qoGcxcCcijmQXszPG21dLy9pMZsweJGKk4zllVtloGOOcenNLKv1imcucwS6GMcPx+P4b/Wl5NsSJao4eooY8oEXBG3dJInzrkfLlRjJSFX5iKrcZY3PSCG6FjKAs7C2N15TGNXr7UE1AM+9+yBY8hw8mgjUavHS7QyXKUVx5NXKZauz3CBZw6xDgCJP/LrFW4m1xakVNsk3zFUQE6MjjapS1eaVx9Btl4hkIGbtJapQk5BeYJGPRcRfJKToq9GrjirhVVYhseEKmCZWdTxvU6ORctdg2keLgOSqdbBeOHEsaVVqUadyc/LNqw0Os2pg1j5qHbPGbQwHQQVjGa7AY5ZqiqzFPmhQbYGxq0kAkEqjHAsBuWATFeiZ+LUipSPbPGKgAUzes4eolRedNhq0xbug9Va1UqvXViDGwxTaRQKPKKFSxrUaNyzV2CZsFFA3HVsWIaNa5jzzN1xm9f7gKZYcd1QZ5pP+ZGoSbJMqTZxb8c1W9kSLY4VrICj/uz1WiVqlNzN69DM44h/XGFodar0w+moqJbtZF/v6S4SolbQs6tpTiUAm1S8g73dv1L4Rx5OyxpaQqzBZ2c3KOeOjWcSzSZR7VFo2SDkpoxeNKhDWFexsIFmhLrmOZR3LQ0fOsFY6UZoPWiwclRGu4ZoNVfA/iawwQdlHeRZeiVtzZkbStEoKTSJeSm81LQ0fOsFo+UZN3rRYNyiMJhjH1dfA/jKpGouSjvKpZKrDW6MGLnWCT5kYwHFFxU4R1XPo0tHpGh+ZBv0RziymPK42rS8A1PDtVOdRaPazDSML5jeRzZxGc2CPRa3hqg1J8D+HrLFu7D6yrTVDrVil2MzLRKDyQYbujL2ej1y5A1CwRSEiDQ/OIAQoEKBSgAFANwBNYxrs9c4y4PkFTSsYTkIHaUKtMbMvaG0Q3TmnBRKo8t2Ladelkl7FAtXy6QbirVqoQNPZdBgIppHN/7iW14+q13ImWxQbOR5r1D1agValkOSvQbKO5frnd4yrr69N7s6QVXlWyPMo+ju1u8swxVkot0yQeLMlV0xIRxwUtXxatOuCdq+LVp1wTtXxatOuCdq+LVp1wTtXxatOuCdq+LVp1wTtXxatOuCdq+LVp1wTtXxatOuCdq+LVp1wTtXxatOuCdq+LVp1wTtXxatOuCdq+LVp1wTtXxatOuCdq+LVp1wTtXxatOuCdq+LVp1wTtXxatOuCdq+LVp1wTtXxatOuCdq+LVp1wTtXxatOuCdq+LVp1RKDMVJ44cSV0mLARUgEKl5L3hyuZCkUZCYXlU1kU+aKFBxtC45bOm0MrIKEdHA5/LbcYT1inF5FjkKeh0FAKBWnBS1fFq064J2r4tWnXBO1fFq064J2r4tWnXBO1fFq064J2r4tWnXBO1fFq064J2r4tWnXBO1fFq064J2r4tWnXBO1fFq064J2r4tWnXBO1fFq064J2r4tWnXBO1fFq064J2r4tWnXBO1fFq064J2r4tWnXBO1fFq064J2r4tWnXBO1fFq064J2r4tWnXBO1fFq064J2r4tWnXBO1fFq064J2r4tWnXBO1fFq064J2r4tWnXBO1fFq064J2r4tWnUZh6ysZFq6WyjZXSaKpVDIf/ACYA7/R37tB3vuttYUisv5+SPyUGaQn5Oz3kq6TuWXTC1v3YoybA71s0sV8rlUfsI+alEWbqRMJWqcXkOqzJpMGE4zXJFDueKttoHGbuTLGJW1iZwY3IKNgtUJVow0pNSbZizD/ms8744exTmURtLPorY5SKmi5JpMR7eRYrAu1ckBRJS0XOv0xl02wSzWORH1Rp2WaXfXCjWuzzZ64TDlGR2jstLll4ii1ixN45V6rukX2GKQWowa6qVvd2hu+OCiTmWudgnNqCPqsZLukIhijy3bfMVnVqGNZ6YQWFFyi2EqB8OZAJXcRRM/kCxKCtKuTiivLZzx1CyRI17aWKbowgAkz7Js1qe0YBdUqso/XIZF4M5DY1qEeWyzyKKbVuREzqn5cpN7dqM6/PtnjlMN4oyeRqrC2AtfkZps2kzI8/zFfzRQrTOhBQ9jaO5A2/kJd69ozIqFov7ClkbyD6Ch1irSpIq/x83tM1eYjomRiGyqBWHR8xRRcn7SEDUTOFkmrFoXnz5/hmlSmoDG1NiFEGUgJHDpCyY5s+RIiNq0RitlTmyCxTDI2GGNkjPUVjqZeKnhK81IkKe1Dj6qwMhVY2tRyLB/ILcyojBxpIiGYxyQABGqCaIBUoltnbPFjdWoTOI2DMZNrH2uvRNX2n6mypLdNooYyRniDGg1y/7UE9HKRxFYhkQ6zlKEhGFciG0TFtitmLQnNopYFWTmNoq+yTwwdLIVUqRdry0FUgIukR5uelJZ0QwoZzgRO7xdiloqJBIRFJQ20zjOp0qv1OIr8aRGTePRTM5y2yPO5cxnQ94qEj0EFFwhI9HOW0LON7OY60RXuWRuwyVWoip7RNNaUdqmydHBI7pBtVGeZNpyyklBVUionekomhUYVvtaRsVW2KTBpHJgusn3qlUXjiNdIx65G7s6Zioq4cw4njNCUcv3xJeZk1xVcPcj4VXul+rluYyqLBSGMQxk6vhxxDZbmsgyEqk8M/TMRBDMOFUMmHj5RjJHiJ6MNymr2uYVszmeYzd9vT6dPHjymzTKezy7ttzRulVsJ4CZ3FBVSR2XJGSmYOee3V7ISzNwRZ45ANwbtW/ZxlzXV3bKFbVq25fiJnJMb4TisYKP7TKSK85YDpHOtI7JLc83N3m5LByjPHvMJn1fdmheXuK1uptocVuRciJltY32eGNUnPpPZZh1Z7AH1kdSeGnMvmlhkR3KpHbMEgIixyRhxxkG+VuwrSiSLCFEDCzb4acDmtxkh7KpLpilzTdpdtnKTdXZxcaLalq5IPBEXIYvwOzosk5sUvKL2CyuAEBf4gw4vjeVsMs+lEpJ5Mr86KlJw04reU7BfX8qk9VlCmIkj9vv1v9Lf5d/pb9b+6kgxQk2Lhi6Jy0HCZklC06jwNCjDxleYlZNDqCqYnvBv7alchXHz1It2ciIJILnIUPp9fP3HX0+vn7lr6fXz9y19Pr5+5a+n18/ctfT6+fuWvp9fP3LX0+vn7lr6fXz9y19Pr5+5a+n18/ctfT6+fuWvp9fP3LX0+vn7lr6fXz9y19Pr5+5aw7ZpayR8ipLORXURWAhR72m9UdLdYZr5o/uH/AA1gP2bMfMl73G9UdK9YZr5o/uOAvZsx8yXvcb1R0r1hmvmj+44C9mzHzJfS37tLZFrLd70NSTIBuWCQqAICG8B3h6LKfYP2Lh+2VMo3bqKJnMnlarKuTtSOnZlyAAmTKO8AH8dSEg1imSz56sVFsgUTqKeeWXnRKL53e7VQFwUgd3DeqOlesM180f3HAXs2Y+ZL6WTHrmPpUis1VMiIgRNRa2PGdVrrBmxi4x3GrKpNQauZiWBlMWRKVcFTGW6BGt5tZzR5lodrNyUhzjJ04kElpd+hXabGmk1POUqsgdVR4eYf0tezGn5NN26k98YiZ2vPMbDYn86+YIxKy6LZDGsepHUiJTWHlLqog4VM7knDWOyBYmhxI7Vc+bGR2qL6Jt8BDnmnzs5mzh89NZXRrk3lGnT3B2UjPN4xqAwhZGyWRwMrINY6IYJMSmx+s+cUuGWklzrulGpDnV7tm9UdK9YZr5o/uOAvZsx8yX0l0E3KJ0VkyKJKFEpyMcdVWOUTVbQyBTpHKomP0biBiFIYWCJo9XlctvG0yBimzps1jkwTdkFNcY7H9aihQFpFJkM3380cK9FgxZsAZJ9FZGIdulIUSrOnTuRexaBjuCiLgY47Q7FDoJ0ztQIBUh+jkV0MGXQkxbg56Xzc1UoWwuWzmTZFXXagYElF6JW3EeSPPFIg1TXFyRNOvRiTN6zIzICD4TGckQQTbIJoIkAiSZQIQvdpRQiKZlFDlIQobxMm4RcJ8tFVNQoh/dbrFNfNH9xwF7NmPmS/aSrIsjGO2Zw3lcInSENmx4dbGaTBQwmPFvHLHf3edO27Juo5dLJoIpl5R1LHl11eAe1rHNfPY+cIZu5kcN4LvD64vSy8lKREREOzIrHEgJT0umXfySuTAHuOAvZsx8yX7XZu+uv2U5f92awvOR3etdsiKXCuJmbdlbNEA3iLCsWXOTpOYuALw9QAwKM4OJiWEIxSYRrRFo1RLySJGAAKOlesM180f3Gt2OVqiThKMMQhFz8s+uJ9o/WR1xPtH6yOuJ9o/WR1xPtH6yOuJ9o/WR1xPtH6yOuJ9o/WR1QLxNTtgBk/VTMlzZjbg8tol0oGuycqucCJtGqixjbOsUrG4tjl3BRKvIqKvzh3clZRnCxzmRfrkbtWyYqKqVOFd5usJLxZETkrLJQQg4soAUNwBuAPq3aN6o6V6wzXzR/ecVdcA8E/oZ6kVplCHxzGn3v7K5KRfUYwQio5swbFAiDZIqRA7uXxVXLd+Qx7Hqn8wxIldzyzRogxbJNWyRUUESgRNPyG9UdK9YZr5o/vOKuuAeAfy2izRlQg3c1LuSN2jUgnMbD1clJuVkMmWduZGSly82wa93MoXNOh0uRmuTzjkhOaapYZoytLqJBfm52Zkzi+kVvKb1R0r1hmvmj+84q64B4B/JPT0bWopxKyztNozbl5R1IeJks8T7ezTjdVjS49TlxsaUoEKBSgAAAbgDu5aRHImbYish/qRFXIEo9KHoG9UdK9YZr5o/vOK/qt/wD+B9PdpOktF5toDhVd7GOOipNoWiWLK0kjY8kpi0ikDApH1xFFNukRJIhSJkAClL3XKoUw7gMUR0H9vIJyl3cowBvHcGiHKcN5TAYPx1V6LGVSTm5NoddV1NOulOFN+4NAoUS8sDFEu7fvKYDAAgICA/8AHRvVHSvWGa+aP7zAx01LuX0dX3iLGQctTpEc412UpKiW6PsyltQcLtFeWZIO7F2lgg6lLyPK5IoNVBKMYwhFWtfTrAvFJxFVBR07QyhKhDRso8ZRjMkwcU48iGSJBMHTc7djKOTLIt2Ks7MTzezxqNgTYc1GtHMwdSAnZp6yTi65GxrZVq3TWeHkpSxrXCEB6dhHpR0ctIyCTHJzyRVjnbbzUozfLkJ0Ocu1lc1KRsTFgwTiDpHI3JaQXreJVGLcTmd9BTYpaUtkrTXrFlPNY8kWs0WMic1wsrLzXJSMbHpRck4TQKhF3l/LSq8AiwS86sXRk35lesM180f3nFXXAPAP3atFfJZYvzcouZFIyyShxk2Avot2yRVFsdwidIFZGjprMIRKPclaOYQoEaqyFHeyMe3BScULJtXYPG7p3jh1Kmkl5OdVcuJFkVkoLmlyKEs+eQc6aMRkeQZyk4pCjidcv1JMyrN7Hlj3LaEp0hHlQau5kHLJsmKJEi4zkDQ6MCtZFTxLVZNRujb6wa0sWzYr9VkLdyR0U58fnl+lq2WUPJuF2qjNMUaNLLlbhK2IXosA/wBhCJozWDlkpNk5VKqZAyT0VusU180f3nFXXAPAP3mN6o6V6wzXzR/ecVdcA8A/eYQ3gOpPCMw8lHjxCWbJFcLGUAvAqf8A3ttrgVP/AL221wKn/wB7ba4FT/7221wKn/3ttrgVP/vbbXAqf/e22pesu6nIhHO3RHKglA/L9wxV1wDwD95t2t32GVetweAX3HFXXAPAP3vyr1uDwC+44q64B4B+9+VetweAX3HFXXAPAP3vyr1uDwC+44q64B4B+9+VetweAX3HFXXAPAP3vyr1uDwC+44q64B4B+9+VetweAX3HFXXAPBPoO915x/KWOb6c0WQITmwJu4Qz/amuuEM/wBqa64Qz/amuuEM/wBqa64Qz/amuuEM/wBqa64Qz/amuuEM/wBqa64Qz/amuuEM/wBqa64Qz/amuuEM/wBqa64Qz/amuuEM/wBqa64Qz/amuuEM/wBqa6o2PpSuTgP3ayB0+bMTcHe4Pcg/+hf/xABGEAACAQIDBQMJBQcBBgcAAAABAhEAAxIhMQQTQVGBImFxECAyQGCCkdHhFDBCUqEFI2JwcrHBMzSAg5KiskNQc5DC8PH/2gAIAQEAEz8A/wDfZRZMnurc/Wtz9a3P1rc/Wtz9a3P1rc/Wtz9a3P1rc/Wtz9a3P1rc/Wtz9a3P1rc/Wtz9a7j7RNYuC0rhsJBuYcORETMeUKWJd2CqIGeZIFMhUYhExIzGeopvxXGMKo7z5cJAxIxVtdQCDnRUrMEg5HvHl61bfCIAHdW9+lb36VvfpW9+lb36VvfpW9+lb36VvfpW9+lb36VvfpW9+lb36VvfpVxpMkn5V09oe5QT/irm1B2w3SWuMqATiOIxJy46UrAW7NsvusRnJjAJEmJiv2pti32a9cuKi3sKkhVWSTmAdIrar2MXF2dC4cLonbw6ZZ91WbmC7eF284RA2oRVXOM8xR2o4ltoIVcS+lDNAJk99fbUs7LsyrcKjEoaXJjMEEkmK2a7u0smwSuJx+JmZZg5QQKOWK86lj8XY1vJtX7OAm5FvQAATiHHjnVm7FgFnhLG7/FIyYnOZOUVJLWXRRvdmtnTEcjPAYuNEyda6D1Dqa6e0LTDqdQYocByoiVGcyOMznOs1fJuteXgGZiSQOEnKndmfA4AZcRJMEAcaRmRkt/klSCVyGRyoNu93JHZUAicwMs9KxNuxcP4wk4Q3eBNEtguEiCxWcOKPxRPfTZqQpBAPdIFFmcqv5VxE4V7hAoFsNtm1KLMKTzUClkG2+faB1kyZnWc6610HqHU109p/e8/rXQeodTXTzYJLE6BQMyTyFbZsr2GuW5jEuICRJGmk+agliWYKAB4kVsuzNeI8QoMVf2K5atuvczCPIFJlVjEZ0Go1pljEyMVJHdIPsvyXHmf7ef1roPUOprp5tzJG2nEAfeCaeJrZyTesXb1wW0QnST2jl+UU+0sr7bcBwxM9lViSqwMxVy6Wx2LNhrjIHJll3ggZ6VZaQl123l1hwJCsB0raLzXVNxrgVLrAmBh7TZRkKubS1z7TatqbhdlJIAxKsRGsaUONxhhX/qIrZ7hQ3RhW2ikjMT2zlnT3CWRkUWUUAmZkT1mmvNJuYGYk555KPjW+YLgZHu3UwThiJ4a+y41L2+2I/5Y61P4wIaeoPnda6D1Dqa6ebtFsOs84PGksKB2CSuUcCSR41ftK+HwmrllStsgQCojLKlsqIdVwq2moUAA8qZATcQT2W5jM5d9WLai5YDggNkJEiR4VcUMsgyDB5EA0FGMqCSFJ1iScu+js6lrh5nLPQU9hSz24jATGYjhRUE25EHCeEjL2X5imyFzZ3Mso/pPnda6D1Dqa6fd8ytxR8/Z0f8Ajp+Oy3MMP18afK5s14aqw/t5vWug8/kBrW7Nbs1uzW7Nbs1uzW7Nbs0RGYJrdnUCt2a3Zrdmt2a3Zrdmt2aIjTy/8b2ecxY/aSjgw0Dd9bb2HxDUoTk48PM610Hn+6fuetCOIrKsqyrKsqyp4iIrr5eTPcB/sD7P2Du79k8CrjOv2p+62pF5LcGR6/Cr+zm7YnudeHiBVlpS1cJPZcagd9W2DKwJ1BFdB5/un7nrXTz+ldfLzWyuf6t+ntC6hgfjWw21sqIGZJA1PhTXGfOczLE10Hn+6fuetdPP6V18n57hEIo8WIFHU3LhxGfiPaPrXQef7p+56108/pXXyD0ThM27J7yeHfQ4e0fWug8/3T9z1rp5/SutLm124csRH5RqaOZe62eEfwroPaTrXQef7p+56108/pVk9pLaNKjL8zD4CtpslE2S0PRFkHKCNSO/2l610Hn+6fuetdPP6VcsqzwDlmRlQED2l610Hn+6fuetdPP6V19pgJ41cskmf/or7Oa+zmvs5r7Oa+zmvs5oWCMjkaUVFRUVFRUVFFdM66ef0rr7TESKwCsArAKwCsArAKwCgg/KaYTxrAKwCsArAKwCsArAKwD7jpXX2u90119Q6V19rvdNdfUOldfa73TXX1DpXX2u90119Q6V19hGBYtGpgcPuToBViwzWi8xGIf308lqbhU9+GYq00ieR5HzeQq5aKDFnpOunq/umuvqHSuvsGxgKoEk1+FrYaGb+xPee6nOT3N2IB8WplZdn2a0DmFk5kLmTPSv2i5AvEflEiKsNKXSSQAs8SwiJpid69tfSZTOZA5CKthsbSSe1JiYjSl9K9cMwo+FXMW83ZORJmRPOKLx9gJEQeZJxAeE1egvtTswChREiFPPhSHtpbJw5ciSQJraCSxc64fygHrV0llD2xiSehirMhAirikyT31YUi5tbZmMznlH61tFxjfa0TAbUayOFbTLC2qjtxBEwYir4Iu7TeaFBAJyGZIy5Z1+JwDhVRzJIMeNEnfPbGrKZzgchFIGDPkzAMSY0Uac6grZVAMlUFu02vGrchXUkiQDmCCCCPU/dNdfUOldfYND/p2Z0Picz3Dvq3seEMMQJ7U8zM0DmVtuXI/RRVsdpiQGYeOtbLeKY2k5Io1xCK21Iv3VhlDvrIkirVhptOEIZmMQFGZmsMaBYHfr+tKJAJKkT4hWFWbDDcLIMGRrkBApTMPy6F46UP4VA/xSicBVw6k8gYImvs7KVuH8zaEDumauelatMSTi5E5ZcAKAhbOzqSLhJ4CBn3TVpZIdgP3h7zD/ABrZrrXCncyZRGkUBlbScRBH9K50oyCgFv8A40ltlwOEJaZHBicxlnVqw02mCQzsYgKMzNQQZJUQDx7I/WjZbHtDscSsDEQQRmaYQcGIsWjkSQB4ep+6aeYia7Vdr512vnXa+ddr512vnXa+ddr512vnXa+ddr512vnXa+ddr512vnSTNdfYM2wbgERr4VcEq6ngRRsjBbc6sBwOQrhFHZ1ktz5TTqCpXlHKksL21OoPd3VZXCoJ1MVeQMrDwNWrIDfGiv7rEJcifEAeS4oZWHIg1bsKGHgYy8lu0A74jJk95q6oZWHeDVqyAw8Dwo2xvQIiMXgYq+gZZ50loBHnWRxpLA7anUHu7q2O1Fu1OUtH9RPSrtkFoUACeelKIAHID1M8a3S/Kt0vyrdL8q3S/Kt0vyrdL8q3S/Kt0vyrdL8q3S/Kt0vyrdL8q3S/Kt0vyrdL8q3S/Kt0vypRA9Qt3JuWwImRw1Hx8ti8rtazjtAHLMcfudpurbUnlJOtA4lwHQiNZkaUFKhoMHI58PvLzQqCYzPjVoyr+BrH+9IImY8PKqsN2QxXUiDmD5rmFRQMya2oG0MfLPwpDKup0I8l54a6ZjsjjmaOgFWCbgtdxiiIJHhw9lDwAE03KWcj4BKtMxsbPaGhZoksczA0FJcO7ZYkvJ0AWSfCrj4V2fAGYgc82q/d3VpjyWY6ZyeVF8SMQDAB1GakRVssdn2O1iiS0ZtEnkMqv7QLYdhM4FJBOhjj3VcOJ7rzACDXM862jaYulCYxRwB5xFJ/q3H0KnkAcpq1ja7HOIzMZxlRMPtbsoGHDwgtHjNXbzBd2mYJIz/CMq2Ik4MQnMmSBJjmaDNKAmAxB1AnPiKUkuiloAVRqTFbQ5F8ozYQ+kanTyKSLSEGCBGvjIFMxwXcAMjPMGYkd9I5YYQs4pNKxZ9rbPIDnEfGtp2iLjW5jHA4dCK2hyu7gHHJGsR+tbQGUX7mWSAjSZ6Cuar2j+oWv4iJP6mjoAgCA/BTWzsxtWrQHpO0a9wpHJS4MLEa5gypFbO7XH2thn+I5sS2gq87YisxMgQP1FXmwkXMRVlJHEEGr5ZbAuHVU4kA5SdaJnAZgieOYpdUtTIB6An4UnBVARfiWNbPkEAWAWI5xoM6DGJYwuIHgTlI41wGENdb+wr+JhhH96P5QhVT0IJo/lkH/PmXmwriMwP0NWbgZiAJOXh7H/xuMA/U1oWDOF/7VaogvcvTE88mA6VzW44t/wBg1WQcdouxmegqxbQXAQYBBxSSVA4VtykXtoOLExg8IU6c6IgksJJPM5xRuBjcJb0QNTE6MOtW7cKGMBXK8JXEQPGtgtLLDgCFJgDTSnUlLYUtJM6w2EmtmtG5bU8i3AxV2cIfAXGnew+FLoyXGEN/yiavD93bG7hD4Aznzq0pKWwSMRnkAPjTCRiRAqn/AJnB6UOBzuH9MFDXHgOH9Yq+DvLqBQABzhsWXM06xviwC9chJ8aUZ27UlXb4CPieFIPTvMvpn/qjpWwWlDFYEKVUkgDIZimmQrsJxTnOFZM86UQFA0AoDIEwRPjBq2jB7dwrAxZZAGnEOiv2VB5E4mb4VEFsiFB+A+NaSuS5dcdKMsd3trPQxWzqSbKmB2hGRA4c6OqF37Kkd2MdRSiOwgk/qFr+IiT+ppv/AEQMuqNXAFQbhnqFraR2UJK4TPCUkCkUhSFcMxB6ADmTTKSEV0XC3hKkdatKd2qg6SeHEnuq36TBhhuPHfJ6tQ43Wzb4adPM/aBi1hzl/Ef5rYHBuoSpgDuOh9f2na90yvOgHhWzbRvRcWMyTw/8vuEhWIMjQiiWCWyJiIM8T8aaQuFdBkZyog4FUGRHHXOdaRSWuDkSZJHdRQ4C3PBOH9KYFUtkCBAUjhTqGQpEYSDqIoqSgbmEJw/pV1AUgaZcI7qKl3T+ktMdKurmh5qRmOlIs3GHLEZMd1OCC4GmIAwY76AINlAICqJgAAxpVwQ6dwYZx3VaTtP4scz1NIWLXZMmZPOpYuRAEaxoANPJhKhzzZQQCasoERRyAFAEuS3pHMwJ7qvIGVh4GmUuyH+HETHSmLF0EEQM40J4eS+gZWHeDRQuUPNcRMdKuEhSRpoRWYTdjRcjMZVLBEfPPWeJq4mJAgEAAHlTKXZP6cRMdKuFptQZyAMa1dLQjcxBHKhwFJcKrrIJA1iT8aBYuwMAjMxwFMCrxyxCCR41YQAseZOpPjV1O2ngwzA7pq1b7beLHM/Grlwtbt8mVTo2ZzHP7m16don8Q7xWJalalalalalalalalalalalalalalalalalalalalalalala20jDbM6iOPl2TazaWJnMAa1te0G6QQIyJ08uykbtIEZeNStStStStStStStStStStStStStStStStStStStStStStStStStStStStStStXCuG6AZKnuOn+6FOdxvwqO8mBV09i2CwZcI4dmelOCTdIIBiB3jWlf93ZOeracDxo4ghPLGRh/WrrgBvDn0pgyspbIdkic45UAQHU6HOrzwW7gNT0oSjxzCsASPCrd4D7KuLDhZp7J1J45DnV28biKBkQpkjWattCPhQucQ7zhHWlMEXGMAjvzmtrJZmBMKogfwk9aUlghPBiBC9aAdjdUZ4VwGc5FbTc7V9wsEwcySc+NQUcjmAwEjwq4SItwTiJ0AgHU0oYC5Ak4SRB6H2s/Z9s3Ll19cAA5DLPiTyrbbO6aCjIIE6Zj4VZaGUGbjQeBIKitmci5t74sKqWOpideJrabym6FAMiQATrJ1rFhO0MtsFye9jl4CtnyDpICll5yTnX9Kgf4pmISFfCsjpJ5k1s2SoCTjyGnYmaxGLlwAAsT3u1Loi8qbWN6FMeAUfGkMsEBykd7EUmoZiqFv+40STdvLhgljxJZlNa8QTPS3+tFiEfC+ASPGSelbLkq9sjMDSUGfSrbEC7u4TAT+UsGmrIhQy2yx8JyHX2rcSttiMmI4xRSCV1Cie8kmmtkm7hfFqNKW2QbMkcTr2RHWkExBkAxnkcwasTZtBubYYn/NKD2iogMCMwYgHnW1Yma4FYEC3n2YjLx8iYgMR9IgjgTnB41tRJKiJbDMnOMyc6PEElyP1TyWsS9o6srKQRPEVtZLC0eYxEknvOlbs4gQrAGdNWmmtkm62PETOg0UdKFszahAoM9CetJIBJ9IgjnqQeNbVJ3c64Zkz3mktlcAxFiM9czS2yDZBYcTrkoHtrMSpEEUCTLEAEyfAetYVyAJioWoWoWoWoWoWoWoWoWoWoWoWoWoWoWoWiAIEd3tf7x9R932v94+o+77X+8fUfd88IxtB5iC8YQZ7/OCH0kJDQOOYOlDZLuJQdCRhy8jaKBxoKfQBAmeGZ9nvePqPu+cutq0zqruOUKSZ4VduBceJgFwCDiOc9JrFGz2QGWxjcfiGIMY0nxrar5urht2yy3QNLfagQsDPTKsf7xrYU3bh8IEdas3ilu2jbSERWUemCvA5RWzX90lrdavcA9MkjRpERlURie4cZP/AFUNQ9tRaWP+K7fCr1zK5hVbagLoFlyY5gGrN9lUW7SqbsFTxYPPgOVWdoZbpZVNxibs4spXjnxq56TyJBPfEezvvH1H3fOcSGB1BFFmbdlTIwyThExkMqYSrYjJ17zNXGa411IjCWYkkRwmmdmZAVKwCSTGFiI0zrOLZT0SPCmZglzKMTLOEmOMTVtsS4RkIPSs43283mPxx51jZSA2qypEgwMjlSFkwXTMsCCCJk6VJ/ellCmTroAKGiqBAHs2xgAd5pGBH6V7x9R937zxBFHklwx+hHs/cYKqjmSdKvTb2K0GEHt/iPhWz7Q9v7S6n0bZkdn+LlRJJ1PE6+o+7973Yh/n2eOZc8FUcSeVK2G5tYnJ75Gg44atKFVR4eT3j6iyznW7FbsVuxW7FbsVuxW7FKkGR5h4QpNHX945YfpHs65gKop8lvQf9ouDjPAH/wDfL7x9dXW1siHFcY9xAj41yVRA/t7O2zlcaexs89+pHypBAVRkAB5nvH1wnNjwUDiScgKua7Hsc9kRwLZE+zvG7fbJFHU/AUfSa6+cdBl5vvH1u4YA7u891XRDbe4P+tcH5eQocPZ3VX2g/wCkp8NfO94+s9KsrifbbmkWwNe1ImkbsLye/wDmbupRAUDgB7MA+UnWgfJebEQeCj+EcB5Jyih5fePrN0Ei0CILADjGlLsmVwHJlksdQTn7M/xQQP1il3qqqLndNwtkQRIjmau3mUtmTvbh0VMABykkmthx27N+7cxShLz6IWSQTkedbCzhGwJhCMGz1Y58e6tra4bVu9dG83SgHET2pJJynjQZ3Vc8GRBEiMREjgats77Vassf9V2HZXCO0VjTjNXHb7VdVpRbgPojMghc5HEUD2mu3ALYjvlprZWc3LG4QMVfFk0rxEZ0judpsC56DMfRPCVAynU0Z3NmyDKODqS6kEDnM6V7x9s1E41Rw2HrEUq5piBGIDumntC4hXBgZWXiCAPAgUthRbsuAVwi3+UgkEEznrS2QqW0D4mCLOQYSDrrX2dbhxKuHEhJ7JIAGYOlXbQZriLizDyMM4yTlVvZlttdXDhG8bPFA5RJzobOA+BHDBHae0uUcO+rahiWSSoIPCYPSrdoWrez239IosntGBJJ4ChswRbdwCFuOJ7bAaaCc4pxibbWJkXHP5gZz5GNK94/yA94/wAgIaQCSa7Vdqu1XartV2q7VLMQfH+QHx/kB8f5AfH+QHx/kB8f5AfH+QHx/kA5IMisR+VYj8qxH5ViPyrEflWI/KsR+VYj8qxH5ViPyrEflWI/KsR+VYj8qxH5ViPypCSZP+8Z/8QAOREAAAQBCAcGBQQDAAAAAAAAAAECAwQRFDRQUlNxkQUTMDIzcrESFSBBgaEGECExNSNRYZJgcID/2gAIAQIBAT8A/wB2KUSSlMTpm0QnTNohOmbRCdM2iE6ZtEJ0zaITpm0QnTNog26hzcOWt4rhKwELDNKaSZpITRmyQmjNkhNGbJCaM2SE0ZskJozZITRmyQg0kl5wireK4KsBCcFOGwheM5W8VwVYCE4KcNhC8Zyt4rgqwEJwU4eCds2yE7ZtkJ2zbITtm2QhohonnDNRCds2yzE7ZtlmJ2zbLMIfbWciFEdZxXCVgITgpw+a90x8LaOhXtHpW62RnKf1Mv5Hc8DcpyIdzwNynIh3PA3KciGnNGwqIokpbIik8h3fD2CHd8PYId3w9ggw0luNUlBSFJWcVwVYCE4KcPmvdMfB/wCNTifXwafpZcpeBFOVhWcVwlYCE4KcPmvdMfB/41OJ9fBp+llyl4EU5WFZxXBVgITgpw+a90x8H/jU4n18Gn6WXKXgRTlYVm6jtoNP7hMG6kpCcOQTV68MTV68MKhXuyf6hjQukIxmFJDK5Eyn5EY720jel/Uh3tpG9L+pDvbSN6X9SDjz769Y+qU/t9pPAinKwrde6Y0TRyxPYIpysK3XumNE0csT2CKcrCt17pjRNHLE9ginKwrdRSlIG9Hvtp7KHZCwE0ir32E0ib72E0ib72E0ir72E0ir32E0ir32E0ir32ENBrbdN1a5Tk/40UtXaJCUmZn5ENVE3Kshqom5VkNVE3Kshqom5VkNVE3Kshqom5VkNVE3Kshqom5VkG19tParfRlPZ9emwXumGd31PrW+jKez69NgvdMM7vqfWt9GU9n16bBe6YZ3fU+tb6Mp7Pr02C90wlL6JUm0r7n5fyJXrlWQleuVZCV65VkGndYR/SST6fWs9GU9n16bVykPc6qz0ZT2fXptXKQ9zqrPRlPZ9em1cpD3Oqs9GU9n16CUhKQlISlsXKQ9zqrNbRLMjPyGqO0rMxqjtKzMao7SszDBKRENGSj3i8z2LlIe51VujjtcxbFykPc6q3Rx2uYti5SHudVbo47XMQlEpCUhKQlISkJSEpBykPc6utbutE4Uh+w1KrxWZjUqvFZmNSq8VmY1KrxWZjUqvFZmNSq8VmY1KrxWZjUqvFZmGmibIyLz/f8Awb//xAA6EQAABAIFCQYFBAMBAAAAAAAAAQIDBAURFBU0cRIwMVBRUlORkiA1VKGxshAhMoHhEzNy0WBhcID/2gAIAQMBAT8A/wC2IQpaiSkqTMWTG8I+QsmN4R8hZMbwj5CyY3hHyFkxvCPkLJjeEfIWTG8I+QsmN4R8g/CPsUfrINNO3W8rvbeJCaTOLbi3EIcMiI9oteN4p8xa8bxT5i143inzFrxvFPmLXjeKfMWvG8U+YteN4p8xOXFOQcOtZ0mZHreV3tvEhOL67jmJpcIbA9byu9t4kJxfXccxNLhDYHreV3tvEhOL67j2Kw1vEKw1vEKw1vEKw1vEJlHQ64KHQlZGZEdPz0CsNbxCsNbxCsNbxBLqFHQk6dZyu9t4kJxfXcfirQYfWolmRGMtW0Zatoy1bRKodtyCJxZUnlGXkQqjO6KozuiqM7oabSiJMkl8qNZyu9t4kJxfXcfirQYiPrPsSbu8v5H6F2E3o8NZyu9t4kJxfXcfirQYiPrPsSbu8v5H6F2E3o8NZyu9t4kJxfXcfirQYiPrPsSbu8v5H6F2E3o8NZwr/wCg8l2img6Q5OoRxRrXDEZn/v8AAtaC8KXP8C1oLwpc/wAByawZoMihi0bfwJdDS5xnKiGTUrblGQqUo8OfWYqUo8OfWYqUo8OfWYXVkNE1DN5BEdOmnsJvR4a3VoMS/wDZLMJvR4a3VoMS/wDZLMJvR4a3VoMS/wDZLMJvR4a3MqSoCIN1BUJXQWAq7/E8hV3+J5Crv8TyFXf4nkKu/wATyFXf4nkKu/xPIMQy0OG4tVJ/+NIaE/WSpZrJJJ0mZ0F8xVofxLfUKtD+Jb6hVofxLfUKtD+Jb6hVofxLfUKtD+Jb6hVofxLfUChoc/lWW+oRLBsOG0o6TLZreJ7sicE+7MN/WQmN4P7eha3ie7InBPuzDf1liJjeD+3oWt4nuyJwT7sw39ZYiY3g/t6FreJ7sicE+7MIOhRGIudwzrprToOj0FqsbRarG0WqxtDDyXk5adGs4nuyJwT7s7KbuWs4nuyJwT7s7KbuWs4nuyJwT7s7KbuWs4juyJwT7hknsGSewZJ7AZGWnMym7lrOFjHIfKJFFB6aSI/UWq7up6U/0LVd3U9Kf6Fqu7qelP8AQnkat6FNCkp+ySL0zMpu5a3mt3PMym7lrea3c8zKbuWt5rdzzMpu5a3eZS6nJVoFmMbBZjGwWYxsFmMbBZjGwWYxsFmMbBZjGwMspaTko0f4N//Z)"
      ],
      "metadata": {
        "id": "EOxBmhAv2Ke6"
      }
    },
    {
      "cell_type": "code",
      "source": [
        "import numpy as np\n",
        "\n",
        "def compute_success_iou(BBtr, BBgt):\n",
        "    if np.NaN in BBtr or np.NaN in BBgt:\n",
        "        return 0\n",
        "    # Compute Intersection over Union (IoU)\n",
        "    x_tr, y_tr, w_tr, h_tr = BBtr\n",
        "    x_gt, y_gt, w_gt, h_gt = BBgt\n",
        "\n",
        "    x1_tr, y1_tr, x2_tr, y2_tr = x_tr, y_tr, x_tr + w_tr, y_tr + h_tr\n",
        "    x1_gt, y1_gt, x2_gt, y2_gt = x_gt, y_gt, x_gt + w_gt, y_gt + h_gt\n",
        "\n",
        "    intersection_w = min(x2_tr, x2_gt) - max(x1_tr, x1_gt)\n",
        "    intersection_h = min(y2_tr, y2_gt) - max(y1_tr, y1_gt)\n",
        "    intersection_area = max(0, intersection_w) * max(0, intersection_h)\n",
        "\n",
        "    tr_area = w_tr * h_tr\n",
        "    gt_area = w_gt * h_gt\n",
        "\n",
        "    union_area = tr_area + gt_area - intersection_area\n",
        "    IoU = intersection_area / union_area\n",
        "    return IoU\n",
        "\n",
        "\n",
        "def compute_precision(BBtr, BBgt, threshold=20):\n",
        "    # Distance of ROI's centroids is within 20 pixels\n",
        "\n",
        "    if np.NaN in BBtr or np.NaN in BBgt:\n",
        "        return 0\n",
        "    # Calculate centers of bounding boxes\n",
        "    Ctr = np.array([(BBtr[0] + BBtr[2]) / 2, (BBtr[1] + BBtr[3]) / 2])\n",
        "    Cgt = np.array([(BBgt[0] + BBgt[2]) / 2, (BBgt[1] + BBgt[3]) / 2])\n",
        "\n",
        "    # Compute the distance between centers\n",
        "    distance = np.linalg.norm(Ctr - Cgt)\n",
        "\n",
        "    # Check if distance is within threshold\n",
        "    if distance <= threshold:\n",
        "        precision = 1  # Successful detection\n",
        "    else:\n",
        "        precision = 0  # Unsuccessful detection\n",
        "\n",
        "    return precision\n"
      ],
      "metadata": {
        "id": "nojnSHjo1OIu"
      },
      "execution_count": null,
      "outputs": []
    },
    {
      "cell_type": "code",
      "source": [
        "def calculate_pr_npr_sc(ground_truth, tracker_ouput):\n",
        "    columns = ['frame', 'track_id', 'bb_left', 'bb_top', 'bb_width', 'bb_height', 'class_id', 'x', 'y', 'z']\n",
        "    gt = pd.DataFrame(convert_to_desired_format(ground_truth), columns=columns)\n",
        "    tr = pd.DataFrame(convert_to_desired_format(tracker_ouput), columns=columns)\n",
        "\n",
        "    # Perform left join on frame and track_id\n",
        "    joined_df = pd.merge(gt, tr, on=['frame', 'track_id'], how='left', suffixes=('_gt', '_tr'))\n",
        "\n",
        "    # Apply compute_success_iou function to calculate IoU\n",
        "    joined_df['IoU'] = joined_df.apply(lambda row: compute_success_iou(\n",
        "        [row['bb_left_tr'], row['bb_top_tr'], row['bb_width_tr'], row['bb_height_tr']],\n",
        "        [row['bb_left_gt'], row['bb_top_gt'], row['bb_width_gt'], row['bb_height_gt']]\n",
        "    ), axis=1)\n",
        "\n",
        "    # Apply compute_precision function to calculate precision\n",
        "    joined_df['precision'] = joined_df.apply(lambda row: compute_precision(\n",
        "        [row['bb_left_tr'], row['bb_top_tr'], row['bb_width_tr'], row['bb_height_tr']],\n",
        "        [row['bb_left_gt'], row['bb_top_gt'], row['bb_width_gt'], row['bb_height_gt']]\n",
        "    ), axis=1)\n",
        "\n",
        "    joined_df.fillna(0, inplace=True)\n",
        "    # Calculate average IoU and precision\n",
        "\n",
        "    return joined_df.groupby('track_id')['IoU'].mean().reset_index()"
      ],
      "metadata": {
        "id": "kbIsSbUb1Ppl"
      },
      "execution_count": null,
      "outputs": []
    },
    {
      "cell_type": "code",
      "source": [
        "def generate_absolute_truth(vis_file, ir_file):\n",
        "    # Read the tab-delimited text file into a pandas DataFrame\n",
        "    df1 = pd.read_csv(vis_file, delimiter='\\t', header=None, names=['frame_id','track_id', 'class', 'x', 'y', 'width', 'height'], dtype={'frame_id': int, 'track_id': int,'class': int, 'x': float, 'y': float, 'width': float, 'height': float}, on_bad_lines='skip')\n",
        "    df2 =  pd.read_csv(ir_file, delimiter='\\t', header=None, names=['frame_id', 'track_id','class', 'x', 'y', 'width', 'height'], dtype={'frame_id': int, 'track_id': int,'class': int, 'x': float, 'y': float, 'width': float, 'height': float}, on_bad_lines='skip')\n",
        "    # Perform a full outer join on the two DataFrames\n",
        "    merged_df = pd.merge(df1, df2, on=['frame_id', 'track_id'], how='outer', suffixes=('_vis', '_ir'))\n",
        "\n",
        "    # Determine the bigger bounding box for each row and preserve only x, y, width, height\n",
        "    merged_df['absolute_gt_x'] = merged_df.apply(lambda row: min(row['x_vis'], row['x_ir']) if not pd.isna(row['x_vis']) and not pd.isna(row['x_ir']) else row['x_vis'] if not pd.isna(row['x_vis']) else row['x_ir'], axis=1)\n",
        "    merged_df['absolute_gt_y'] = merged_df.apply(lambda row: min(row['y_vis'], row['y_ir']) if not pd.isna(row['y_vis']) and not pd.isna(row['y_ir']) else row['y_vis'] if not pd.isna(row['y_vis']) else row['y_ir'], axis=1)\n",
        "    merged_df['absolute_gt_width'] = merged_df.apply(lambda row: max(row['x_vis'] + row['width_vis'], row['x_ir'] + row['width_ir']) - min(row['x_vis'], row['x_ir']) if not pd.isna(row['x_vis']) and not pd.isna(row['x_ir']) else row['width_vis'] if not pd.isna(row['width_vis']) else row['width_ir'], axis=1)\n",
        "    merged_df['absolute_gt_height'] = merged_df.apply(lambda row: max(row['y_vis'] + row['height_vis'], row['y_ir'] + row['height_ir']) - min(row['y_vis'], row['y_ir']) if not pd.isna(row['y_vis']) and not pd.isna(row['y_ir']) else row['height_vis'] if not pd.isna(row['height_vis']) else row['height_ir'], axis=1)\n",
        "\n",
        "    merged_df['class_id'] = -1\n",
        "\n",
        "    # Drop all other columns except frame_id, track_id, and absolute_gt\n",
        "    merged_df = merged_df[['frame_id', 'track_id','class_id', 'absolute_gt_x', 'absolute_gt_y', 'absolute_gt_width', 'absolute_gt_height']]\n",
        "\n",
        "    return merged_df"
      ],
      "metadata": {
        "id": "nu5wIqwb1RGG"
      },
      "execution_count": null,
      "outputs": []
    },
    {
      "cell_type": "code",
      "source": [
        "def read_bbox_data_from_dataframe(dataframe):\n",
        "    bbox_data = {}\n",
        "    latest_frames = {}\n",
        "    for index, row in dataframe.iterrows():\n",
        "        frame = int(row['frame_id'])\n",
        "        track_id = int(row['track_id'])\n",
        "        class_id = int(row['class_id'])\n",
        "        bbox = [int(row['absolute_gt_x']), int(row['absolute_gt_y']), int(row['absolute_gt_width']), int(row['absolute_gt_height'])]\n",
        "        bbox_data.setdefault(frame, []).append((track_id, bbox))\n",
        "        latest_frames[track_id] = max(frame, latest_frames.get(track_id, 0))  # Update the latest frame for the track_id\n",
        "    return bbox_data, latest_frames"
      ],
      "metadata": {
        "id": "MFEccXqY1V0k"
      },
      "execution_count": null,
      "outputs": []
    },
    {
      "cell_type": "code",
      "source": [
        "def adjust_bounding_box(frame, roi):\n",
        "    height, width, _ = frame.shape\n",
        "    height -= 1\n",
        "    width -= 1\n",
        "    x, y, w, h = roi\n",
        "\n",
        "    # Adjust x coordinate if it's less than 0\n",
        "    if x < 0:\n",
        "        w += x  # Decrease width\n",
        "        x = 0   # Set x to 0\n",
        "\n",
        "    # Adjust width if it exceeds the frame width\n",
        "    if x + w > width:\n",
        "        w = width - x\n",
        "\n",
        "    # Adjust y coordinate if it's less than 0\n",
        "    if y < 0:\n",
        "        h += y  # Decrease height\n",
        "        y = 0   # Set y to 0\n",
        "\n",
        "    # Adjust height if it exceeds the frame height\n",
        "    if y + h > height:\n",
        "        h = height - y\n",
        "\n",
        "    # Ensure width and height are at least 5\n",
        "    w = max(5, w)\n",
        "    h = max(5, h)\n",
        "\n",
        "        # Adjust width if it exceeds the frame width\n",
        "    if x + w > width:\n",
        "        x = width - w\n",
        "\n",
        "    # Adjust height if it exceeds the frame height\n",
        "    if y + h > height:\n",
        "        y = height - h\n",
        "\n",
        "\n",
        "    return (x, y, w, h)"
      ],
      "metadata": {
        "id": "vIbGV9X_1Zth"
      },
      "execution_count": null,
      "outputs": []
    },
    {
      "cell_type": "code",
      "source": [
        "def extract_image_features(frame, frame2, x, y, width, height):\n",
        "    # frame is visible\n",
        "    # frame2 is IR\n",
        "    frame_copy = frame.copy()\n",
        "    frame2_copy = frame2.copy()\n",
        "    roi = frame_copy[y:y+height, x:x+width]\n",
        "    roi2 = frame2_copy[y:y+height, x:x+width]\n",
        "\n",
        "    frame_gray = cv2.cvtColor(frame_copy, cv2.COLOR_BGR2GRAY)\n",
        "    frame2_gray = cv2.cvtColor(frame2_copy, cv2.COLOR_BGR2GRAY)\n",
        "    roi_gray = frame_gray[y:y+height, x:x+width]\n",
        "    roi2_gray = frame2_gray[y:y+height, x:x+width]\n",
        "\n",
        "    rois = [(frame_gray, frame_copy),\n",
        "            (frame2_gray, frame2_copy),\n",
        "            (roi_gray, roi),\n",
        "            (roi2_gray, roi2)]\n",
        "\n",
        "    features = []\n",
        "\n",
        "    for x in rois:\n",
        "        gray_roi = x[0]\n",
        "        roi = x[1]\n",
        "\n",
        "        # Convert the cropped region to BGR\n",
        "        b, g, r = cv2.split(roi)\n",
        "\n",
        "        mean_intensity_b = np.mean(b)\n",
        "        mean_intensity_g = np.mean(g)\n",
        "        mean_intensity_r = np.mean(r)\n",
        "\n",
        "        # Compute median intensity directly from pixel values\n",
        "        median_intensity_b = np.median(b)\n",
        "        median_intensity_g = np.median(g)\n",
        "        median_intensity_r = np.median(r)\n",
        "\n",
        "        # Compute mode intensity directly from pixel values\n",
        "        mode_intensity_b = np.argmax(np.bincount(b.flatten()))\n",
        "        mode_intensity_g = np.argmax(np.bincount(g.flatten()))\n",
        "        mode_intensity_r = np.argmax(np.bincount(r.flatten()))\n",
        "\n",
        "        # Compute standard deviation directly from pixel values\n",
        "        std_deviation_b = np.std(b)\n",
        "        std_deviation_g = np.std(g)\n",
        "        std_deviation_r = np.std(r)\n",
        "\n",
        "        # Compute intensity statistics\n",
        "        mean_intensity = np.mean(gray_roi)\n",
        "        variance_intensity = np.var(gray_roi)\n",
        "        skewness_intensity = np.mean((gray_roi - mean_intensity) ** 3) / np.power(variance_intensity, 1.5)\n",
        "        kurtosis_intensity = np.mean((gray_roi - mean_intensity) ** 4) / np.power(variance_intensity, 2) - 3\n",
        "\n",
        "        area = width*height\n",
        "\n",
        "        # Include all variables in the features list\n",
        "        features += [mean_intensity_b, mean_intensity_g, mean_intensity_r,\n",
        "                median_intensity_b, median_intensity_g, median_intensity_r,\n",
        "                mode_intensity_b, mode_intensity_g, mode_intensity_r,\n",
        "                std_deviation_b, std_deviation_g, std_deviation_r,\n",
        "                mean_intensity, variance_intensity, skewness_intensity, kurtosis_intensity, area]\n",
        "\n",
        "    # Return all features\n",
        "    return features"
      ],
      "metadata": {
        "id": "npBZ-4OZ1eCe"
      },
      "execution_count": null,
      "outputs": []
    },
    {
      "cell_type": "code",
      "source": [
        "result = []\n",
        "for y in ['frame_', 'roi_']:\n",
        "    for x in ['_vis', '_ir']:\n",
        "        for var in [\n",
        "                'mean_intensity_b', 'mean_intensity_g', 'mean_intensity_r',\n",
        "                'median_intensity_b', 'median_intensity_g', 'median_intensity_r',\n",
        "                'mode_intensity_b', 'mode_intensity_g', 'mode_intensity_r',\n",
        "                'std_deviation_b', 'std_deviation_g', 'std_deviation_r',\n",
        "                'mean_intensity', 'variance_intensity', 'skewness_intensity', 'kurtosis_intensity', 'area']:\n",
        "            result.append(y + var+x)\n"
      ],
      "metadata": {
        "id": "Sdd2KhHA1hu2"
      },
      "execution_count": null,
      "outputs": []
    },
    {
      "cell_type": "code",
      "source": [
        "def annotate(vid_in_vis, vid_in_ir, annotation_in_vis, annotation_in_ir):\n",
        "    trackers = {}\n",
        "\n",
        "    dt_data = pd.DataFrame(columns=['frame_number', 'track_id', 'x', 'y', 'w', 'h',\n",
        " 'frame_mean_intensity_b_vis',\n",
        " 'frame_mean_intensity_g_vis',\n",
        " 'frame_mean_intensity_r_vis',\n",
        " 'frame_median_intensity_b_vis',\n",
        " 'frame_median_intensity_g_vis',\n",
        " 'frame_median_intensity_r_vis',\n",
        " 'frame_mode_intensity_b_vis',\n",
        " 'frame_mode_intensity_g_vis',\n",
        " 'frame_mode_intensity_r_vis',\n",
        " 'frame_std_deviation_b_vis',\n",
        " 'frame_std_deviation_g_vis',\n",
        " 'frame_std_deviation_r_vis',\n",
        " 'frame_mean_intensity_vis',\n",
        " 'frame_variance_intensity_vis',\n",
        " 'frame_skewness_intensity_vis',\n",
        " 'frame_kurtosis_intensity_vis',\n",
        " 'frame_area_vis',\n",
        " 'frame_mean_intensity_b_ir',\n",
        " 'frame_mean_intensity_g_ir',\n",
        " 'frame_mean_intensity_r_ir',\n",
        " 'frame_median_intensity_b_ir',\n",
        " 'frame_median_intensity_g_ir',\n",
        " 'frame_median_intensity_r_ir',\n",
        " 'frame_mode_intensity_b_ir',\n",
        " 'frame_mode_intensity_g_ir',\n",
        " 'frame_mode_intensity_r_ir',\n",
        " 'frame_std_deviation_b_ir',\n",
        " 'frame_std_deviation_g_ir',\n",
        " 'frame_std_deviation_r_ir',\n",
        " 'frame_mean_intensity_ir',\n",
        " 'frame_variance_intensity_ir',\n",
        " 'frame_skewness_intensity_ir',\n",
        " 'frame_kurtosis_intensity_ir',\n",
        " 'frame_area_ir',\n",
        " 'roi_mean_intensity_b_vis',\n",
        " 'roi_mean_intensity_g_vis',\n",
        " 'roi_mean_intensity_r_vis',\n",
        " 'roi_median_intensity_b_vis',\n",
        " 'roi_median_intensity_g_vis',\n",
        " 'roi_median_intensity_r_vis',\n",
        " 'roi_mode_intensity_b_vis',\n",
        " 'roi_mode_intensity_g_vis',\n",
        " 'roi_mode_intensity_r_vis',\n",
        " 'roi_std_deviation_b_vis',\n",
        " 'roi_std_deviation_g_vis',\n",
        " 'roi_std_deviation_r_vis',\n",
        " 'roi_mean_intensity_vis',\n",
        " 'roi_variance_intensity_vis',\n",
        " 'roi_skewness_intensity_vis',\n",
        " 'roi_kurtosis_intensity_vis',\n",
        " 'roi_area_vis',\n",
        " 'roi_mean_intensity_b_ir',\n",
        " 'roi_mean_intensity_g_ir',\n",
        " 'roi_mean_intensity_r_ir',\n",
        " 'roi_median_intensity_b_ir',\n",
        " 'roi_median_intensity_g_ir',\n",
        " 'roi_median_intensity_r_ir',\n",
        " 'roi_mode_intensity_b_ir',\n",
        " 'roi_mode_intensity_g_ir',\n",
        " 'roi_mode_intensity_r_ir',\n",
        " 'roi_std_deviation_b_ir',\n",
        " 'roi_std_deviation_g_ir',\n",
        " 'roi_std_deviation_r_ir',\n",
        " 'roi_mean_intensity_ir',\n",
        " 'roi_variance_intensity_ir',\n",
        " 'roi_skewness_intensity_ir',\n",
        " 'roi_kurtosis_intensity_ir',\n",
        " 'roi_area_ir'])\n",
        "\n",
        "    # Process frames and initialize trackers\n",
        "    cap = cv2.VideoCapture(vid_in_vis)\n",
        "    cap2 = cv2.VideoCapture(vid_in_ir)\n",
        "\n",
        "    annotation_df = generate_absolute_truth(annotation_in_vis, annotation_in_ir)\n",
        "    bbox_data, latest_frames = read_bbox_data_from_dataframe(annotation_df)\n",
        "\n",
        "    while cap.isOpened() and cap2.isOpened():\n",
        "        ret, frame = cap.read()\n",
        "        ret2, frame2 = cap2.read()\n",
        "        if not ret or not ret2:\n",
        "            break\n",
        "\n",
        "        frame_number = int(cap.get(cv2.CAP_PROP_POS_FRAMES))\n",
        "\n",
        "        # Initialize trackers at the earliest frame where track_id appears\n",
        "        if frame_number in bbox_data:\n",
        "            for track_id, bbox in bbox_data[frame_number]:\n",
        "                if track_id not in trackers:\n",
        "                    image_shape = frame.shape\n",
        "                    bbox = adjust_bounding_box(frame2, bbox)\n",
        "                    trackers[track_id] = 1\n",
        "                    x, y, w, h = bbox\n",
        "                    features = extract_image_features(frame, frame2, x, y, w, h)\n",
        "\n",
        "                    dt_data.loc[track_id] = [frame_number, track_id, x, y, w, h] + features\n",
        "\n",
        "    # Release resources\n",
        "    cap.release()\n",
        "    cap2.release()\n",
        "    cv2.destroyAllWindows()\n",
        "\n",
        "    return dt_data"
      ],
      "metadata": {
        "id": "1p2hojon1jEc"
      },
      "execution_count": null,
      "outputs": []
    },
    {
      "cell_type": "code",
      "source": [
        "from tqdm import tqdm\n",
        "\n",
        "not_initiated = True\n",
        "\n",
        "for i in tqdm(range(1, 31)):\n",
        "    if i in [22,24,16,14,12]:\n",
        "        continue\n",
        "\n",
        "    dt = annotate(f'{path}/seq-{i}/Visual-seq{i}.mp4',\n",
        "             f'{path}/seq-{i}/IR-seq{i}.mp4',\n",
        "              f'{path}/seq-{i}/Seq{i}-Abs.txt',\n",
        "             f'{path}/seq-{i}/Seq{i}-Abs.txt',)\n",
        "\n",
        "    iou_vis = calculate_pr_npr_sc(f'{path}/seq-{i}/Seq{i}-Abs.txt', f'{path}/seq-{i}/{name}-Out_Seq{i}-Vis.txt')\n",
        "    iou_ir = calculate_pr_npr_sc(f'{path}/seq-{i}/Seq{i}-Abs.txt', f'{path}/seq-{i}/{name}-Out_Seq{i}-IR.txt')\n",
        "\n",
        "    result = dt.merge(iou_vis, on='track_id', suffixes=(None, '_vis'))\n",
        "    result = result.merge(iou_ir, on='track_id', suffixes=(None, '_ir'))\n",
        "    result['seq'] = i\n",
        "    if not_initiated:\n",
        "        final = result\n",
        "        not_initiated= False\n",
        "    else:\n",
        "        final = pd.concat([final, result], ignore_index=True)\n"
      ],
      "metadata": {
        "id": "zKanH8hX1m1z"
      },
      "execution_count": null,
      "outputs": []
    },
    {
      "cell_type": "markdown",
      "source": [
        "# Skipped Files Due to Missing Videos/Annotations\n",
        "\n",
        "During the processing, the following files were skipped due to missing videos or annotations:\n",
        "\n",
        "1. File 12\n",
        "2. File 14\n",
        "3. File 16\n",
        "4. File 22\n",
        "5. File 24\n",
        "\n",
        "These files are excluded from the analysis as their corresponding videos or annotations are not available. Ensure you have the necessary files for these entries to continue with the analysis seamlessly.\n"
      ],
      "metadata": {
        "id": "3vCX-eQH62zb"
      }
    },
    {
      "cell_type": "code",
      "source": [
        "final"
      ],
      "metadata": {
        "id": "xIAfEsXb1pa6"
      },
      "execution_count": null,
      "outputs": []
    },
    {
      "cell_type": "markdown",
      "source": [
        "# Saving Extracted Features to \"final.csv\"\n",
        "\n",
        "Let's wrap up this process by saving the extracted features to a CSV file named \"final.csv\". Here's how you can do it:\n",
        "\n",
        "```python\n",
        "import pandas as pd\n",
        "\n",
        "# Assuming 'final' is your DataFrame containing the extracted features\n",
        "final.to_csv(f'{path}/final.csv', header=True, index=False)\n",
        "\n"
      ],
      "metadata": {
        "id": "QXcj1awl72pd"
      }
    },
    {
      "cell_type": "code",
      "source": [
        "final.to_csv(f'{path}/final.csv', header=True, index=False)"
      ],
      "metadata": {
        "id": "6eeOhMEf1pDS"
      },
      "execution_count": null,
      "outputs": []
    }
  ]
}