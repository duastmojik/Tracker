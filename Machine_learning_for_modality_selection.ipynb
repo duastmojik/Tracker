{
  "nbformat": 4,
  "nbformat_minor": 0,
  "metadata": {
    "colab": {
      "provenance": []
    },
    "kernelspec": {
      "name": "python3",
      "display_name": "Python 3"
    },
    "language_info": {
      "name": "python"
    }
  },
  "cells": [
    {
      "cell_type": "markdown",
      "source": [
        "## Training the Model for Modality Selection 🚀\n",
        "\n",
        "If you have features extracted from the Camel dataset in a file named `final.csv`, you're ready to train your machine learning model for modality selection!\n",
        "\n",
        "### Dataset Path Configuration:\n",
        "\n",
        "Make sure to set the path according to where the Camel dataset is located:\n",
        "\n",
        "```python\n",
        "path = '/content/drive/MyDrive/Camel/'\n"
      ],
      "metadata": {
        "id": "HvHdNIMcA4sf"
      }
    },
    {
      "cell_type": "markdown",
      "source": [
        "## Model Training Options:\n",
        "\n",
        "Decide whether you want to train the model on:\n",
        "\n",
        "- Random 30% of all ROIs\n",
        "- Hand-picked sequences\n",
        "\n",
        "Once you've made your choice, execute the appropriate code cell below.\n",
        "\n",
        "Happy training! 🌟"
      ],
      "metadata": {
        "id": "MY19n7_kBjUF"
      }
    },
    {
      "cell_type": "code",
      "execution_count": null,
      "metadata": {
        "id": "NNMXj5NN8xV8"
      },
      "outputs": [],
      "source": [
        "import numpy as np\n",
        "import pandas as pd\n",
        "import joblib\n",
        "\n",
        "from sklearn.feature_selection import RFE\n",
        "from sklearn.impute import SimpleImputer\n",
        "from sklearn.model_selection import train_test_split, GridSearchCV\n",
        "from sklearn.preprocessing import MinMaxScaler\n",
        "from sklearn.metrics import accuracy_score, recall_score, roc_auc_score, f1_score, precision_score\n",
        "from sklearn.linear_model import LinearRegression\n",
        "from sklearn.ensemble import RandomForestClassifier, AdaBoostClassifier, GradientBoostingClassifier\n",
        "from sklearn.svm import SVC\n",
        "from sklearn.neighbors import KNeighborsClassifier\n",
        "from sklearn.neural_network import MLPClassifier\n"
      ]
    },
    {
      "cell_type": "code",
      "source": [
        "path = '/content/drive/MyDrive/Camel/'"
      ],
      "metadata": {
        "id": "b7NCLfwx848X"
      },
      "execution_count": null,
      "outputs": []
    },
    {
      "cell_type": "code",
      "source": [
        "final = pd.read_csv(f'{path}final.csv')"
      ],
      "metadata": {
        "id": "23oz-gLy84Ep"
      },
      "execution_count": null,
      "outputs": []
    },
    {
      "cell_type": "code",
      "source": [
        "final['IR_better'] = final['IoU_ir'] > final['IoU']\n",
        "tree_data = final.copy()"
      ],
      "metadata": {
        "id": "Iu_f4HyP9C74"
      },
      "execution_count": null,
      "outputs": []
    },
    {
      "cell_type": "markdown",
      "source": [
        "🔍 **Manual Sequence Selection:**\n",
        "To manually select sequences for training the model, input individual numbers into the variable `seqs` as shown below:\n",
        "```python\n",
        "seqs = [3, 7, 8, 9, 13, 22, 29]\n"
      ],
      "metadata": {
        "id": "dpM_ewrO-86q"
      }
    },
    {
      "cell_type": "code",
      "source": [
        "seqs = [3,7, 8, 9, 13, 22, 29]"
      ],
      "metadata": {
        "id": "wY-EECc_-1ks"
      },
      "execution_count": null,
      "outputs": []
    },
    {
      "cell_type": "code",
      "source": [
        "columns_to_keep_away = ['frame_number', 'track_id', 'IoU', 'IoU_ir', 'seq', 'IR_better','y', 'x', 'w', 'h']\n",
        "train = tree_data[tree_data['seq'].isin(seqs)]\n",
        "test = tree_data[~tree_data['seq'].isin(seqs)]\n",
        "X=tree_data.drop(columns=columns_to_keep_away)\n",
        "data_to_keep_away = tree_data[columns_to_keep_away]\n",
        "\n",
        "y_train = train['IR_better']\n",
        "y_test = test['IR_better']\n",
        "X_train= train.drop(columns=columns_to_keep_away)\n",
        "X_test = test.drop(columns=columns_to_keep_away)\n",
        "\n",
        "imputer = SimpleImputer(strategy='mean')\n",
        "\n",
        "# Impute missing values in X\n",
        "X_train = imputer.fit_transform(X_train)\n",
        "X_test = imputer.transform(X_test)\n",
        "\n",
        "# Initialize the MinMaxScaler\n",
        "scaler = MinMaxScaler()\n",
        "\n",
        "scaler.fit(X_train)\n",
        "\n",
        "# Transform both the training and test data\n",
        "X_train_normalized = scaler.transform(X_train)\n",
        "X_test_normalized = scaler.transform(X_test)"
      ],
      "metadata": {
        "id": "HNzxjxJN9f9J"
      },
      "execution_count": null,
      "outputs": []
    },
    {
      "cell_type": "markdown",
      "source": [
        "🎲 **Random Selection:**\n",
        "To train the model on a random 30% subset from all sequences, run the corresponding cell below."
      ],
      "metadata": {
        "id": "umCSKTnv_1Vl"
      }
    },
    {
      "cell_type": "code",
      "source": [
        "# Create a DataFrame containing only the columns you want to keep away from the classifier\n",
        "columns_to_keep_away = ['frame_number', 'track_id', 'IoU', 'IoU_ir', 'seq', 'IR_better','y', 'x', 'w', 'h']\n",
        "data_to_keep_away = tree_data[columns_to_keep_away]\n",
        "\n",
        "# Remove the columns you want to keep away from the original dataset\n",
        "X = tree_data.drop(columns=columns_to_keep_away)\n",
        "\n",
        "# Extract the target variable (y)\n",
        "y = tree_data['IR_better']\n",
        "\n",
        "# Initialize SimpleImputer with mean strategy\n",
        "imputer = SimpleImputer(strategy='mean')\n",
        "\n",
        "# Impute missing values in X\n",
        "X_imputed = imputer.fit_transform(X)\n",
        "\n",
        "# Convert back to DataFrame after imputation\n",
        "X = pd.DataFrame(X_imputed, columns=X.columns)\n",
        "\n",
        "# Split data into training and testing sets\n",
        "X_train, X_test, y_train, y_test = train_test_split(X, y, test_size=0.7, random_state=42)\n",
        "\n",
        "# Initialize the MinMaxScaler\n",
        "scaler = MinMaxScaler()\n",
        "\n",
        "scaler.fit(X_train)\n",
        "\n",
        "# Transform both the training and test data\n",
        "X_train_normalized = scaler.transform(X_train)\n",
        "X_test_normalized = scaler.transform(X_test)"
      ],
      "metadata": {
        "id": "gOGhCQsm9kVv"
      },
      "execution_count": null,
      "outputs": []
    },
    {
      "cell_type": "markdown",
      "source": [
        "## Classifiers Overview 📊\n",
        "\n",
        "### Description:\n",
        "A list of classifiers is defined to be tried out for the task. Each classifier is instantiated with specific parameters.\n",
        "\n",
        "### Classifiers:\n",
        "- **🌲 Random Forest:** Utilizes a forest of decision trees, each trained with a random subset of the data.\n",
        "- **🚀 AdaBoost:** Combines multiple weak classifiers to form a strong classifier.\n",
        "- **🌈 Gradient Boosting:** Builds a series of decision trees, where each tree corrects the errors of the previous one.\n",
        "- **KNN (K-Nearest Neighbors):** Assigns a class label based on the majority class among its k nearest neighbors.\n",
        "- **MLP (Multi-Layer Perceptron):** A type of neural network with multiple layers, utilizes backpropagation for training.\n",
        "\n",
        "### Training and Evaluation:\n",
        "Each classifier is trained and evaluated using the following metrics:\n",
        "- **Accuracy:** Measures the proportion of correctly classified instances.\n",
        "- **Recall:** Calculates the proportion of actual positive instances correctly predicted.\n",
        "- **ROC AUC Score:** Represents the area under the ROC curve, indicating the classifier's ability to discriminate between positive and negative classes.\n",
        "- **F1 Score:** Harmonic mean of precision and recall, providing a balance between them.\n",
        "- **Precision:** Measures the proportion of correctly predicted positive instances among all predicted positive instances.\n",
        "\n",
        "Results are stored for each classifier for further analysis and comparison.\n"
      ],
      "metadata": {
        "id": "pXWyltot__94"
      }
    },
    {
      "cell_type": "code",
      "source": [
        "# Define a list of classifiers to try out\n",
        "classifiers = {\n",
        "    \"Random Forest\": RandomForestClassifier(n_estimators=100, random_state=42),\n",
        "    \"AdaBoost\": AdaBoostClassifier(n_estimators=100, random_state=42),\n",
        "    \"Gradient Boosting\": GradientBoostingClassifier(n_estimators=100, random_state=42),\n",
        "    \"KNN\": KNeighborsClassifier(),\n",
        "    \"MLP\": MLPClassifier(hidden_layer_sizes=(100, 50), activation='relu', solver='adam', max_iter=500, random_state=42),\n",
        "\n",
        "}\n",
        "\n",
        "\n",
        "# Train and evaluate each classifier\n",
        "results = {}\n",
        "for name, clf in classifiers.items():\n",
        "    # Train classifier\n",
        "    clf.fit(X_train_normalized, y_train)\n",
        "\n",
        "    # Make predictions and evaluate\n",
        "    y_pred = clf.predict(X_test_normalized)\n",
        "    accuracy = accuracy_score(y_test, y_pred)\n",
        "    recall = recall_score(y_test, y_pred)\n",
        "    roc = roc_auc_score(y_test, y_pred)\n",
        "    f1 = f1_score(y_test, y_pred)\n",
        "    precision = precision_score(y_test, y_pred)\n",
        "\n",
        "    # Store results\n",
        "    results[name] = {\"f1\": f1, \"accuracy\": accuracy, \"recall\": recall, \"precision\": precision,\"roc\": roc}\n"
      ],
      "metadata": {
        "id": "UD7q5Str92Fb"
      },
      "execution_count": null,
      "outputs": []
    },
    {
      "cell_type": "markdown",
      "source": [
        "## Finding the Best Classifier based on F1 Score 🔍\n",
        "\n",
        "```python\n",
        "best_classifier = max(results, key=lambda x: results[x][\"f1\"])\n",
        "print(\"Best Classifier based on F1 Score:\", best_classifier)\n",
        "\n",
        "best_clf = classifiers[best_classifier]\n"
      ],
      "metadata": {
        "id": "Rofb9UFaAgpH"
      }
    },
    {
      "cell_type": "code",
      "source": [
        "# Find the best classifier based on accuracy\n",
        "best_classifier = max(results, key=lambda x: results[x][\"f1\"])\n",
        "print(\"Best Classifier based on f1:\", best_classifier)\n",
        "\n",
        "# Initialize the best classifier\n",
        "best_clf = classifiers[best_classifier]"
      ],
      "metadata": {
        "id": "0PgUS-It-Te8"
      },
      "execution_count": null,
      "outputs": []
    },
    {
      "cell_type": "markdown",
      "source": [
        "## Saving the Trained Model, Scaler and Imputer 📦"
      ],
      "metadata": {
        "id": "UFhr2IpJAscK"
      }
    },
    {
      "cell_type": "code",
      "source": [
        "# Save the trained model to a file\n",
        "joblib.dump(best_clf, f'{path}model.pkl')\n",
        "joblib.dump(scaler, f'{path}scaler.pkl')\n",
        "joblib.dump(imputer, f'{path}imputer.pkl')"
      ],
      "metadata": {
        "id": "j_g2Y1zC-V7R"
      },
      "execution_count": null,
      "outputs": []
    }
  ]
}